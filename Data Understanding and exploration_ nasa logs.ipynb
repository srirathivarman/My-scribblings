{
 "cells": [
  {
   "cell_type": "code",
   "execution_count": 21,
   "metadata": {},
   "outputs": [],
   "source": [
    "## 200    OK\n",
    "## 304    Not Modified\n",
    "## 302    temporary redirect\n",
    "## 404    Not Found\n",
    "## 500    Internal Server Error\n",
    "## 403    Forbidden\n",
    "## 501    Not Implemented\n",
    "\n",
    "#### The GET method requests a representation of the specified resource. Requests using GET should only retrieve data.\n",
    "#### The HEAD method asks for a response identical to that of a GET request, but without the response body.\n",
    "#### The POST method is used to submit an entity to the specified resource, often causing a change in state or side effects on the server"
   ]
  },
  {
   "cell_type": "code",
   "execution_count": 1,
   "metadata": {},
   "outputs": [],
   "source": [
    "import pandas as pd"
   ]
  },
  {
   "cell_type": "code",
   "execution_count": 2,
   "metadata": {},
   "outputs": [],
   "source": [
    "import numpy as np\n",
    "import scipy.stats as stats\n",
    "import seaborn as sns\n",
    "import matplotlib.pyplot as plt\n",
    "color = sns.color_palette() \n",
    "%matplotlib inline\n",
    "sns.set(style='white', context='notebook', palette='deep')\n",
    "\n",
    "# for seaborn issue:\n",
    "import warnings\n",
    "warnings.filterwarnings(\"ignore\")\n",
    "warnings.filterwarnings(action=\"ignore\")\n",
    "%precision 4\n",
    "\n",
    "from datetime import datetime\n",
    "from datetime import date\n",
    "\n",
    "from dateutil.relativedelta import relativedelta"
   ]
  },
  {
   "cell_type": "code",
   "execution_count": 3,
   "metadata": {},
   "outputs": [],
   "source": [
    "import re"
   ]
  },
  {
   "cell_type": "code",
   "execution_count": 5,
   "metadata": {},
   "outputs": [
    {
     "name": "stdout",
     "output_type": "stream",
     "text": [
      "[]\n"
     ]
    }
   ],
   "source": [
    "## Listing all active dataframe in memory\n",
    "#alldfs = [var for var in dir() if isinstance(eval(var), pd.core.frame.DataFrame)]\n",
    "alldfs = [var for var in dir() if isinstance(eval(var), np.ndarray)]\n",
    "#alldfs = [var for var in dir() if isinstance(eval(var), defaultdict)]\n",
    "#alldfs = [var for var in dir() if isinstance(eval(var), list)]\n",
    "print(alldfs)"
   ]
  },
  {
   "cell_type": "code",
   "execution_count": 4,
   "metadata": {},
   "outputs": [],
   "source": [
    "pd.set_option('display.max_rows', None)\n",
    "pd.set_option('display.max_columns', None)"
   ]
  },
  {
   "cell_type": "markdown",
   "metadata": {},
   "source": [
    "### Combines files and create new features"
   ]
  },
  {
   "cell_type": "code",
   "execution_count": 24,
   "metadata": {},
   "outputs": [],
   "source": [
    "df=pd.read_csv('/Users/sri.t/Downloads/nasa_19950731.22-19950831.22.tsv.gz',sep='\\t',encoding='latin 1')"
   ]
  },
  {
   "cell_type": "code",
   "execution_count": 39,
   "metadata": {},
   "outputs": [],
   "source": [
    "df1=pd.read_csv('/Users/sri.t/Downloads/nasa_19950630.22-19950728.12.tsv.gz',sep='\\t',encoding='latin 1')"
   ]
  },
  {
   "cell_type": "code",
   "execution_count": 26,
   "metadata": {},
   "outputs": [
    {
     "data": {
      "text/plain": [
       "(1569886, 9)"
      ]
     },
     "execution_count": 26,
     "metadata": {},
     "output_type": "execute_result"
    }
   ],
   "source": [
    "df.shape"
   ]
  },
  {
   "cell_type": "code",
   "execution_count": 46,
   "metadata": {},
   "outputs": [
    {
     "data": {
      "text/plain": [
       "(1891709, 7)"
      ]
     },
     "execution_count": 46,
     "metadata": {},
     "output_type": "execute_result"
    }
   ],
   "source": [
    "df1.shape"
   ]
  },
  {
   "cell_type": "code",
   "execution_count": 234,
   "metadata": {},
   "outputs": [
    {
     "name": "stdout",
     "output_type": "stream",
     "text": [
      "21220\n",
      "15356\n"
     ]
    }
   ],
   "source": [
    "print (len(df1['url'].unique()))\n",
    "print (len(df['url'].unique()))"
   ]
  },
  {
   "cell_type": "code",
   "execution_count": 236,
   "metadata": {},
   "outputs": [
    {
     "name": "stdout",
     "output_type": "stream",
     "text": [
      "81982\n",
      "75060\n"
     ]
    }
   ],
   "source": [
    "print (len(df1['host'].unique()))\n",
    "print(len(df['host'].unique()))"
   ]
  },
  {
   "cell_type": "markdown",
   "metadata": {},
   "source": [
    "#### Convert time time to datetime format"
   ]
  },
  {
   "cell_type": "code",
   "execution_count": 42,
   "metadata": {},
   "outputs": [],
   "source": [
    "df['time']=pd.to_datetime(df['time'],unit='s')"
   ]
  },
  {
   "cell_type": "code",
   "execution_count": null,
   "metadata": {},
   "outputs": [],
   "source": [
    "df1['time']=pd.to_datetime(df1['time'],unit='s')"
   ]
  },
  {
   "cell_type": "markdown",
   "metadata": {},
   "source": [
    "#### Drop empty columns"
   ]
  },
  {
   "cell_type": "code",
   "execution_count": 47,
   "metadata": {},
   "outputs": [],
   "source": [
    "df.drop(columns=['referer','useragent','logname'],axis=1,inplace=True)"
   ]
  },
  {
   "cell_type": "code",
   "execution_count": 45,
   "metadata": {},
   "outputs": [],
   "source": [
    "df1.drop(columns=['referer','useragent','logname'],axis=1,inplace=True)"
   ]
  },
  {
   "cell_type": "markdown",
   "metadata": {},
   "source": [
    "#### Create various based features"
   ]
  },
  {
   "cell_type": "code",
   "execution_count": 57,
   "metadata": {},
   "outputs": [],
   "source": [
    "df['year']=[x.year for x in df['time']]\n",
    "df['month']=[x.month for x in df['time']]\n",
    "df['day']=[x.day for x in df['time']]\n",
    "df['hour']=[x.hour for x in df['time']]\n",
    "df['minute']=[x.minute for x in df['time']]\n",
    "df['second']=[x.second for x in df['time']]"
   ]
  },
  {
   "cell_type": "code",
   "execution_count": 61,
   "metadata": {},
   "outputs": [],
   "source": [
    "df1['year']=[x.year for x in df1['time1']]\n",
    "df1['month']=[x.month for x in df1['time1']]\n",
    "df1['day']=[x.day for x in df1['time1']]\n",
    "df1['hour']=[x.hour for x in df1['time1']]\n",
    "df1['minute']=[x.minute for x in df1['time1']]\n",
    "df1['second']=[x.second for x in df1['time1']]"
   ]
  },
  {
   "cell_type": "markdown",
   "metadata": {},
   "source": [
    "#### Get last file type and file type extension"
   ]
  },
  {
   "cell_type": "code",
   "execution_count": 181,
   "metadata": {},
   "outputs": [],
   "source": [
    "def f1(x):\n",
    "    g=re.match(\".*/(.+)\", str(x))\n",
    "    if g:\n",
    "        return g.group(1)\n",
    "    else:\n",
    "        return ''"
   ]
  },
  {
   "cell_type": "code",
   "execution_count": 185,
   "metadata": {},
   "outputs": [],
   "source": [
    "def f2(x):\n",
    "    g=re.match(\".*\\.(.+)\", str(x))\n",
    "    if g:\n",
    "        return g.group(1)\n",
    "    else:\n",
    "        return ''"
   ]
  },
  {
   "cell_type": "code",
   "execution_count": 183,
   "metadata": {},
   "outputs": [],
   "source": [
    "df['file_type']=df[['url']].apply(f1,axis=1)\n",
    "df['file_type_ext']=df[['file_type']].apply(f2,axis=1)"
   ]
  },
  {
   "cell_type": "code",
   "execution_count": 201,
   "metadata": {},
   "outputs": [],
   "source": [
    "df1['file_type']=df1[['url']].apply(f1,axis=1)\n",
    "df1['file_type_ext']=df1[['file_type']].apply(f2,axis=1)"
   ]
  },
  {
   "cell_type": "markdown",
   "metadata": {},
   "source": [
    "#### Sort and concatenate the files"
   ]
  },
  {
   "cell_type": "code",
   "execution_count": 213,
   "metadata": {},
   "outputs": [],
   "source": [
    "df=df.sort_values(by=['host','time'])"
   ]
  },
  {
   "cell_type": "code",
   "execution_count": 223,
   "metadata": {},
   "outputs": [],
   "source": [
    "df1=df1.sort_values(by=['host','time'])"
   ]
  },
  {
   "cell_type": "code",
   "execution_count": 241,
   "metadata": {},
   "outputs": [
    {
     "data": {
      "text/html": [
       "<div>\n",
       "<style scoped>\n",
       "    .dataframe tbody tr th:only-of-type {\n",
       "        vertical-align: middle;\n",
       "    }\n",
       "\n",
       "    .dataframe tbody tr th {\n",
       "        vertical-align: top;\n",
       "    }\n",
       "\n",
       "    .dataframe thead th {\n",
       "        text-align: right;\n",
       "    }\n",
       "</style>\n",
       "<table border=\"1\" class=\"dataframe\">\n",
       "  <thead>\n",
       "    <tr style=\"text-align: right;\">\n",
       "      <th></th>\n",
       "      <th>host</th>\n",
       "      <th>method</th>\n",
       "      <th>url</th>\n",
       "      <th>response</th>\n",
       "      <th>bytes</th>\n",
       "      <th>time</th>\n",
       "      <th>year</th>\n",
       "      <th>month</th>\n",
       "      <th>day</th>\n",
       "      <th>hour</th>\n",
       "      <th>minute</th>\n",
       "      <th>second</th>\n",
       "      <th>file_type</th>\n",
       "      <th>file_type_ext</th>\n",
       "    </tr>\n",
       "  </thead>\n",
       "  <tbody>\n",
       "    <tr>\n",
       "      <th>727798</th>\n",
       "      <td>***.novo.dk</td>\n",
       "      <td>GET</td>\n",
       "      <td>/ksc.html</td>\n",
       "      <td>200</td>\n",
       "      <td>7067</td>\n",
       "      <td>1995-07-11 12:17:09</td>\n",
       "      <td>1995</td>\n",
       "      <td>7</td>\n",
       "      <td>11</td>\n",
       "      <td>12</td>\n",
       "      <td>17</td>\n",
       "      <td>9</td>\n",
       "      <td>ksc.html</td>\n",
       "      <td>html</td>\n",
       "    </tr>\n",
       "    <tr>\n",
       "      <th>727799</th>\n",
       "      <td>***.novo.dk</td>\n",
       "      <td>GET</td>\n",
       "      <td>/images/ksclogo-medium.gif</td>\n",
       "      <td>200</td>\n",
       "      <td>5866</td>\n",
       "      <td>1995-07-11 12:17:11</td>\n",
       "      <td>1995</td>\n",
       "      <td>7</td>\n",
       "      <td>11</td>\n",
       "      <td>12</td>\n",
       "      <td>17</td>\n",
       "      <td>11</td>\n",
       "      <td>ksclogo-medium.gif</td>\n",
       "      <td>gif</td>\n",
       "    </tr>\n",
       "    <tr>\n",
       "      <th>727822</th>\n",
       "      <td>***.novo.dk</td>\n",
       "      <td>GET</td>\n",
       "      <td>/images/MOSAIC-logosmall.gif</td>\n",
       "      <td>200</td>\n",
       "      <td>363</td>\n",
       "      <td>1995-07-11 12:17:31</td>\n",
       "      <td>1995</td>\n",
       "      <td>7</td>\n",
       "      <td>11</td>\n",
       "      <td>12</td>\n",
       "      <td>17</td>\n",
       "      <td>31</td>\n",
       "      <td>MOSAIC-logosmall.gif</td>\n",
       "      <td>gif</td>\n",
       "    </tr>\n",
       "    <tr>\n",
       "      <th>727826</th>\n",
       "      <td>***.novo.dk</td>\n",
       "      <td>GET</td>\n",
       "      <td>/images/USA-logosmall.gif</td>\n",
       "      <td>200</td>\n",
       "      <td>234</td>\n",
       "      <td>1995-07-11 12:17:33</td>\n",
       "      <td>1995</td>\n",
       "      <td>7</td>\n",
       "      <td>11</td>\n",
       "      <td>12</td>\n",
       "      <td>17</td>\n",
       "      <td>33</td>\n",
       "      <td>USA-logosmall.gif</td>\n",
       "      <td>gif</td>\n",
       "    </tr>\n",
       "    <tr>\n",
       "      <th>727828</th>\n",
       "      <td>***.novo.dk</td>\n",
       "      <td>GET</td>\n",
       "      <td>/images/NASA-logosmall.gif</td>\n",
       "      <td>200</td>\n",
       "      <td>786</td>\n",
       "      <td>1995-07-11 12:17:34</td>\n",
       "      <td>1995</td>\n",
       "      <td>7</td>\n",
       "      <td>11</td>\n",
       "      <td>12</td>\n",
       "      <td>17</td>\n",
       "      <td>34</td>\n",
       "      <td>NASA-logosmall.gif</td>\n",
       "      <td>gif</td>\n",
       "    </tr>\n",
       "  </tbody>\n",
       "</table>\n",
       "</div>"
      ],
      "text/plain": [
       "               host method                           url  response  bytes  \\\n",
       "727798  ***.novo.dk    GET                     /ksc.html       200   7067   \n",
       "727799  ***.novo.dk    GET    /images/ksclogo-medium.gif       200   5866   \n",
       "727822  ***.novo.dk    GET  /images/MOSAIC-logosmall.gif       200    363   \n",
       "727826  ***.novo.dk    GET     /images/USA-logosmall.gif       200    234   \n",
       "727828  ***.novo.dk    GET    /images/NASA-logosmall.gif       200    786   \n",
       "\n",
       "                      time  year  month  day  hour  minute  second  \\\n",
       "727798 1995-07-11 12:17:09  1995      7   11    12      17       9   \n",
       "727799 1995-07-11 12:17:11  1995      7   11    12      17      11   \n",
       "727822 1995-07-11 12:17:31  1995      7   11    12      17      31   \n",
       "727826 1995-07-11 12:17:33  1995      7   11    12      17      33   \n",
       "727828 1995-07-11 12:17:34  1995      7   11    12      17      34   \n",
       "\n",
       "                   file_type file_type_ext  \n",
       "727798              ksc.html          html  \n",
       "727799    ksclogo-medium.gif           gif  \n",
       "727822  MOSAIC-logosmall.gif           gif  \n",
       "727826     USA-logosmall.gif           gif  \n",
       "727828    NASA-logosmall.gif           gif  "
      ]
     },
     "execution_count": 241,
     "metadata": {},
     "output_type": "execute_result"
    }
   ],
   "source": [
    "df1.head()"
   ]
  },
  {
   "cell_type": "code",
   "execution_count": 240,
   "metadata": {},
   "outputs": [
    {
     "data": {
      "text/html": [
       "<div>\n",
       "<style scoped>\n",
       "    .dataframe tbody tr th:only-of-type {\n",
       "        vertical-align: middle;\n",
       "    }\n",
       "\n",
       "    .dataframe tbody tr th {\n",
       "        vertical-align: top;\n",
       "    }\n",
       "\n",
       "    .dataframe thead th {\n",
       "        text-align: right;\n",
       "    }\n",
       "</style>\n",
       "<table border=\"1\" class=\"dataframe\">\n",
       "  <thead>\n",
       "    <tr style=\"text-align: right;\">\n",
       "      <th></th>\n",
       "      <th>host</th>\n",
       "      <th>time</th>\n",
       "      <th>method</th>\n",
       "      <th>url</th>\n",
       "      <th>response</th>\n",
       "      <th>bytes</th>\n",
       "      <th>year</th>\n",
       "      <th>month</th>\n",
       "      <th>day</th>\n",
       "      <th>hour</th>\n",
       "      <th>minute</th>\n",
       "      <th>second</th>\n",
       "      <th>file_type</th>\n",
       "      <th>file_type_ext</th>\n",
       "    </tr>\n",
       "  </thead>\n",
       "  <tbody>\n",
       "    <tr>\n",
       "      <th>321368</th>\n",
       "      <td>***.novo.dk</td>\n",
       "      <td>1995-08-09 07:02:48</td>\n",
       "      <td>GET</td>\n",
       "      <td>/shuttle/missions/sts-69/mission-sts-69.html</td>\n",
       "      <td>200</td>\n",
       "      <td>11264</td>\n",
       "      <td>1995</td>\n",
       "      <td>8</td>\n",
       "      <td>9</td>\n",
       "      <td>7</td>\n",
       "      <td>2</td>\n",
       "      <td>48</td>\n",
       "      <td>mission-sts-69.html</td>\n",
       "      <td>html</td>\n",
       "    </tr>\n",
       "    <tr>\n",
       "      <th>321374</th>\n",
       "      <td>***.novo.dk</td>\n",
       "      <td>1995-08-09 07:02:55</td>\n",
       "      <td>GET</td>\n",
       "      <td>/shuttle/missions/sts-69/sts-69-patch-small.gif</td>\n",
       "      <td>200</td>\n",
       "      <td>8083</td>\n",
       "      <td>1995</td>\n",
       "      <td>8</td>\n",
       "      <td>9</td>\n",
       "      <td>7</td>\n",
       "      <td>2</td>\n",
       "      <td>55</td>\n",
       "      <td>sts-69-patch-small.gif</td>\n",
       "      <td>gif</td>\n",
       "    </tr>\n",
       "    <tr>\n",
       "      <th>321383</th>\n",
       "      <td>***.novo.dk</td>\n",
       "      <td>1995-08-09 07:03:02</td>\n",
       "      <td>GET</td>\n",
       "      <td>/images/KSC-logosmall.gif</td>\n",
       "      <td>200</td>\n",
       "      <td>1204</td>\n",
       "      <td>1995</td>\n",
       "      <td>8</td>\n",
       "      <td>9</td>\n",
       "      <td>7</td>\n",
       "      <td>3</td>\n",
       "      <td>2</td>\n",
       "      <td>KSC-logosmall.gif</td>\n",
       "      <td>gif</td>\n",
       "    </tr>\n",
       "    <tr>\n",
       "      <th>321385</th>\n",
       "      <td>***.novo.dk</td>\n",
       "      <td>1995-08-09 07:03:06</td>\n",
       "      <td>GET</td>\n",
       "      <td>/images/launch-logo.gif</td>\n",
       "      <td>200</td>\n",
       "      <td>1713</td>\n",
       "      <td>1995</td>\n",
       "      <td>8</td>\n",
       "      <td>9</td>\n",
       "      <td>7</td>\n",
       "      <td>3</td>\n",
       "      <td>6</td>\n",
       "      <td>launch-logo.gif</td>\n",
       "      <td>gif</td>\n",
       "    </tr>\n",
       "    <tr>\n",
       "      <th>321386</th>\n",
       "      <td>***.novo.dk</td>\n",
       "      <td>1995-08-09 07:03:12</td>\n",
       "      <td>GET</td>\n",
       "      <td>/history/apollo/images/apollo-logo1.gif</td>\n",
       "      <td>200</td>\n",
       "      <td>1173</td>\n",
       "      <td>1995</td>\n",
       "      <td>8</td>\n",
       "      <td>9</td>\n",
       "      <td>7</td>\n",
       "      <td>3</td>\n",
       "      <td>12</td>\n",
       "      <td>apollo-logo1.gif</td>\n",
       "      <td>gif</td>\n",
       "    </tr>\n",
       "  </tbody>\n",
       "</table>\n",
       "</div>"
      ],
      "text/plain": [
       "               host                time method  \\\n",
       "321368  ***.novo.dk 1995-08-09 07:02:48    GET   \n",
       "321374  ***.novo.dk 1995-08-09 07:02:55    GET   \n",
       "321383  ***.novo.dk 1995-08-09 07:03:02    GET   \n",
       "321385  ***.novo.dk 1995-08-09 07:03:06    GET   \n",
       "321386  ***.novo.dk 1995-08-09 07:03:12    GET   \n",
       "\n",
       "                                                    url  response  bytes  \\\n",
       "321368     /shuttle/missions/sts-69/mission-sts-69.html       200  11264   \n",
       "321374  /shuttle/missions/sts-69/sts-69-patch-small.gif       200   8083   \n",
       "321383                        /images/KSC-logosmall.gif       200   1204   \n",
       "321385                          /images/launch-logo.gif       200   1713   \n",
       "321386          /history/apollo/images/apollo-logo1.gif       200   1173   \n",
       "\n",
       "        year  month  day  hour  minute  second               file_type  \\\n",
       "321368  1995      8    9     7       2      48     mission-sts-69.html   \n",
       "321374  1995      8    9     7       2      55  sts-69-patch-small.gif   \n",
       "321383  1995      8    9     7       3       2       KSC-logosmall.gif   \n",
       "321385  1995      8    9     7       3       6         launch-logo.gif   \n",
       "321386  1995      8    9     7       3      12        apollo-logo1.gif   \n",
       "\n",
       "       file_type_ext  \n",
       "321368          html  \n",
       "321374           gif  \n",
       "321383           gif  \n",
       "321385           gif  \n",
       "321386           gif  "
      ]
     },
     "execution_count": 240,
     "metadata": {},
     "output_type": "execute_result"
    }
   ],
   "source": [
    "df.head()"
   ]
  },
  {
   "cell_type": "code",
   "execution_count": 242,
   "metadata": {},
   "outputs": [],
   "source": [
    "df_all=pd.concat([df1,df])"
   ]
  },
  {
   "cell_type": "code",
   "execution_count": 243,
   "metadata": {},
   "outputs": [
    {
     "data": {
      "text/plain": [
       "(3461595, 14)"
      ]
     },
     "execution_count": 243,
     "metadata": {},
     "output_type": "execute_result"
    }
   ],
   "source": [
    "df_all.shape"
   ]
  },
  {
   "cell_type": "code",
   "execution_count": 253,
   "metadata": {},
   "outputs": [],
   "source": [
    "df_all=df_all.sort_values(by=['host','time'])"
   ]
  },
  {
   "cell_type": "markdown",
   "metadata": {},
   "source": [
    "#### Determine first entry and log entries with in a day (variables are count and count_day)"
   ]
  },
  {
   "cell_type": "code",
   "execution_count": 263,
   "metadata": {},
   "outputs": [],
   "source": [
    "df_all['count_day']=df_all.groupby(['host','day']).cumcount() + 1"
   ]
  },
  {
   "cell_type": "code",
   "execution_count": null,
   "metadata": {},
   "outputs": [],
   "source": [
    "df_all['count']=df_all.groupby('host').cumcount() + 1"
   ]
  },
  {
   "cell_type": "code",
   "execution_count": 283,
   "metadata": {},
   "outputs": [
    {
     "data": {
      "text/html": [
       "<div>\n",
       "<style scoped>\n",
       "    .dataframe tbody tr th:only-of-type {\n",
       "        vertical-align: middle;\n",
       "    }\n",
       "\n",
       "    .dataframe tbody tr th {\n",
       "        vertical-align: top;\n",
       "    }\n",
       "\n",
       "    .dataframe thead th {\n",
       "        text-align: right;\n",
       "    }\n",
       "</style>\n",
       "<table border=\"1\" class=\"dataframe\">\n",
       "  <thead>\n",
       "    <tr style=\"text-align: right;\">\n",
       "      <th></th>\n",
       "      <th>bytes</th>\n",
       "      <th>day</th>\n",
       "      <th>file_type</th>\n",
       "      <th>file_type_ext</th>\n",
       "      <th>host</th>\n",
       "      <th>hour</th>\n",
       "      <th>method</th>\n",
       "      <th>minute</th>\n",
       "      <th>month</th>\n",
       "      <th>response</th>\n",
       "      <th>second</th>\n",
       "      <th>time</th>\n",
       "      <th>url</th>\n",
       "      <th>year</th>\n",
       "      <th>count</th>\n",
       "      <th>count_day</th>\n",
       "      <th>date</th>\n",
       "      <th>dates_unique</th>\n",
       "    </tr>\n",
       "  </thead>\n",
       "  <tbody>\n",
       "    <tr>\n",
       "      <th>0</th>\n",
       "      <td>7067</td>\n",
       "      <td>11</td>\n",
       "      <td>ksc.html</td>\n",
       "      <td>html</td>\n",
       "      <td>***.novo.dk</td>\n",
       "      <td>12</td>\n",
       "      <td>GET</td>\n",
       "      <td>17</td>\n",
       "      <td>7</td>\n",
       "      <td>200</td>\n",
       "      <td>9</td>\n",
       "      <td>1995-07-11 12:17:09</td>\n",
       "      <td>/ksc.html</td>\n",
       "      <td>1995</td>\n",
       "      <td>1</td>\n",
       "      <td>1</td>\n",
       "      <td>1995-07-11</td>\n",
       "      <td>2</td>\n",
       "    </tr>\n",
       "    <tr>\n",
       "      <th>1</th>\n",
       "      <td>5866</td>\n",
       "      <td>11</td>\n",
       "      <td>ksclogo-medium.gif</td>\n",
       "      <td>gif</td>\n",
       "      <td>***.novo.dk</td>\n",
       "      <td>12</td>\n",
       "      <td>GET</td>\n",
       "      <td>17</td>\n",
       "      <td>7</td>\n",
       "      <td>200</td>\n",
       "      <td>11</td>\n",
       "      <td>1995-07-11 12:17:11</td>\n",
       "      <td>/images/ksclogo-medium.gif</td>\n",
       "      <td>1995</td>\n",
       "      <td>2</td>\n",
       "      <td>2</td>\n",
       "      <td>1995-07-11</td>\n",
       "      <td>2</td>\n",
       "    </tr>\n",
       "    <tr>\n",
       "      <th>2</th>\n",
       "      <td>363</td>\n",
       "      <td>11</td>\n",
       "      <td>MOSAIC-logosmall.gif</td>\n",
       "      <td>gif</td>\n",
       "      <td>***.novo.dk</td>\n",
       "      <td>12</td>\n",
       "      <td>GET</td>\n",
       "      <td>17</td>\n",
       "      <td>7</td>\n",
       "      <td>200</td>\n",
       "      <td>31</td>\n",
       "      <td>1995-07-11 12:17:31</td>\n",
       "      <td>/images/MOSAIC-logosmall.gif</td>\n",
       "      <td>1995</td>\n",
       "      <td>3</td>\n",
       "      <td>3</td>\n",
       "      <td>1995-07-11</td>\n",
       "      <td>2</td>\n",
       "    </tr>\n",
       "    <tr>\n",
       "      <th>3</th>\n",
       "      <td>234</td>\n",
       "      <td>11</td>\n",
       "      <td>USA-logosmall.gif</td>\n",
       "      <td>gif</td>\n",
       "      <td>***.novo.dk</td>\n",
       "      <td>12</td>\n",
       "      <td>GET</td>\n",
       "      <td>17</td>\n",
       "      <td>7</td>\n",
       "      <td>200</td>\n",
       "      <td>33</td>\n",
       "      <td>1995-07-11 12:17:33</td>\n",
       "      <td>/images/USA-logosmall.gif</td>\n",
       "      <td>1995</td>\n",
       "      <td>4</td>\n",
       "      <td>4</td>\n",
       "      <td>1995-07-11</td>\n",
       "      <td>2</td>\n",
       "    </tr>\n",
       "    <tr>\n",
       "      <th>4</th>\n",
       "      <td>786</td>\n",
       "      <td>11</td>\n",
       "      <td>NASA-logosmall.gif</td>\n",
       "      <td>gif</td>\n",
       "      <td>***.novo.dk</td>\n",
       "      <td>12</td>\n",
       "      <td>GET</td>\n",
       "      <td>17</td>\n",
       "      <td>7</td>\n",
       "      <td>200</td>\n",
       "      <td>34</td>\n",
       "      <td>1995-07-11 12:17:34</td>\n",
       "      <td>/images/NASA-logosmall.gif</td>\n",
       "      <td>1995</td>\n",
       "      <td>5</td>\n",
       "      <td>5</td>\n",
       "      <td>1995-07-11</td>\n",
       "      <td>2</td>\n",
       "    </tr>\n",
       "  </tbody>\n",
       "</table>\n",
       "</div>"
      ],
      "text/plain": [
       "   bytes  day             file_type file_type_ext         host  hour method  \\\n",
       "0   7067   11              ksc.html          html  ***.novo.dk    12    GET   \n",
       "1   5866   11    ksclogo-medium.gif           gif  ***.novo.dk    12    GET   \n",
       "2    363   11  MOSAIC-logosmall.gif           gif  ***.novo.dk    12    GET   \n",
       "3    234   11     USA-logosmall.gif           gif  ***.novo.dk    12    GET   \n",
       "4    786   11    NASA-logosmall.gif           gif  ***.novo.dk    12    GET   \n",
       "\n",
       "   minute  month  response  second                time  \\\n",
       "0      17      7       200       9 1995-07-11 12:17:09   \n",
       "1      17      7       200      11 1995-07-11 12:17:11   \n",
       "2      17      7       200      31 1995-07-11 12:17:31   \n",
       "3      17      7       200      33 1995-07-11 12:17:33   \n",
       "4      17      7       200      34 1995-07-11 12:17:34   \n",
       "\n",
       "                            url  year  count  count_day        date  \\\n",
       "0                     /ksc.html  1995      1          1  1995-07-11   \n",
       "1    /images/ksclogo-medium.gif  1995      2          2  1995-07-11   \n",
       "2  /images/MOSAIC-logosmall.gif  1995      3          3  1995-07-11   \n",
       "3     /images/USA-logosmall.gif  1995      4          4  1995-07-11   \n",
       "4    /images/NASA-logosmall.gif  1995      5          5  1995-07-11   \n",
       "\n",
       "   dates_unique  \n",
       "0             2  \n",
       "1             2  \n",
       "2             2  \n",
       "3             2  \n",
       "4             2  "
      ]
     },
     "execution_count": 283,
     "metadata": {},
     "output_type": "execute_result"
    }
   ],
   "source": [
    "df_all.head()"
   ]
  },
  {
   "cell_type": "code",
   "execution_count": 256,
   "metadata": {},
   "outputs": [
    {
     "data": {
      "text/plain": [
       "137978"
      ]
     },
     "execution_count": 256,
     "metadata": {},
     "output_type": "execute_result"
    }
   ],
   "source": [
    "#Total number of distinct hosts\n",
    "len(df_all['host'].unique())"
   ]
  },
  {
   "cell_type": "code",
   "execution_count": 258,
   "metadata": {},
   "outputs": [
    {
     "data": {
      "text/plain": [
       "31065"
      ]
     },
     "execution_count": 258,
     "metadata": {},
     "output_type": "execute_result"
    }
   ],
   "source": [
    "#Total number of distinct pages\n",
    "len(df_all['url'].unique())"
   ]
  },
  {
   "cell_type": "code",
   "execution_count": 265,
   "metadata": {},
   "outputs": [
    {
     "name": "stdout",
     "output_type": "stream",
     "text": [
      "21988\n",
      "1704\n"
     ]
    }
   ],
   "source": [
    "#Maximum entries for a host in the entire period\n",
    "print (df_all['count'].max())\n",
    "#Maximum entries with in a day for the host\n",
    "print (df_all['count_day'].max())"
   ]
  },
  {
   "cell_type": "code",
   "execution_count": 7,
   "metadata": {},
   "outputs": [
    {
     "data": {
      "text/html": [
       "<div>\n",
       "<style scoped>\n",
       "    .dataframe tbody tr th:only-of-type {\n",
       "        vertical-align: middle;\n",
       "    }\n",
       "\n",
       "    .dataframe tbody tr th {\n",
       "        vertical-align: top;\n",
       "    }\n",
       "\n",
       "    .dataframe thead th {\n",
       "        text-align: right;\n",
       "    }\n",
       "</style>\n",
       "<table border=\"1\" class=\"dataframe\">\n",
       "  <thead>\n",
       "    <tr style=\"text-align: right;\">\n",
       "      <th></th>\n",
       "      <th>Unnamed: 0</th>\n",
       "      <th>host</th>\n",
       "      <th>bytes</th>\n",
       "      <th>day</th>\n",
       "      <th>file_type</th>\n",
       "      <th>file_type_ext</th>\n",
       "      <th>hour</th>\n",
       "      <th>method</th>\n",
       "      <th>minute</th>\n",
       "      <th>month</th>\n",
       "      <th>response</th>\n",
       "      <th>second</th>\n",
       "      <th>time</th>\n",
       "      <th>url</th>\n",
       "      <th>year</th>\n",
       "      <th>count</th>\n",
       "      <th>count_day</th>\n",
       "      <th>date</th>\n",
       "      <th>dates_unique</th>\n",
       "      <th>diff_minutes</th>\n",
       "      <th>time-1</th>\n",
       "      <th>session_id</th>\n",
       "      <th>index_x</th>\n",
       "      <th>day_of_week</th>\n",
       "      <th>index_y</th>\n",
       "      <th>date_hour</th>\n",
       "      <th>page_grouping</th>\n",
       "    </tr>\n",
       "  </thead>\n",
       "  <tbody>\n",
       "    <tr>\n",
       "      <th>902198</th>\n",
       "      <td>902198</td>\n",
       "      <td>indy.gradient.com</td>\n",
       "      <td>34688</td>\n",
       "      <td>12</td>\n",
       "      <td>cdtclock.gif</td>\n",
       "      <td>gif</td>\n",
       "      <td>19</td>\n",
       "      <td>GET</td>\n",
       "      <td>47</td>\n",
       "      <td>7</td>\n",
       "      <td>200</td>\n",
       "      <td>46</td>\n",
       "      <td>1995-07-12 19:47:46</td>\n",
       "      <td>/shuttle/countdown/images/cdtclock.gif</td>\n",
       "      <td>1995</td>\n",
       "      <td>2344</td>\n",
       "      <td>1704</td>\n",
       "      <td>1995-07-12 00:00:00</td>\n",
       "      <td>33</td>\n",
       "      <td>0.0</td>\n",
       "      <td>1995-07-12 19:47:46</td>\n",
       "      <td>7</td>\n",
       "      <td>P316</td>\n",
       "      <td>Wednesday</td>\n",
       "      <td>U16232</td>\n",
       "      <td>1995-07-12 19:01:01</td>\n",
       "      <td>shuttle mission pages</td>\n",
       "    </tr>\n",
       "  </tbody>\n",
       "</table>\n",
       "</div>"
      ],
      "text/plain": [
       "        Unnamed: 0               host  bytes  day     file_type file_type_ext  \\\n",
       "902198      902198  indy.gradient.com  34688   12  cdtclock.gif           gif   \n",
       "\n",
       "        hour method  minute  month  response  second                 time  \\\n",
       "902198    19    GET      47      7       200      46  1995-07-12 19:47:46   \n",
       "\n",
       "                                           url  year  count  count_day  \\\n",
       "902198  /shuttle/countdown/images/cdtclock.gif  1995   2344       1704   \n",
       "\n",
       "                       date  dates_unique  diff_minutes               time-1  \\\n",
       "902198  1995-07-12 00:00:00            33           0.0  1995-07-12 19:47:46   \n",
       "\n",
       "        session_id index_x day_of_week index_y            date_hour  \\\n",
       "902198           7    P316   Wednesday  U16232  1995-07-12 19:01:01   \n",
       "\n",
       "                page_grouping  \n",
       "902198  shuttle mission pages  "
      ]
     },
     "execution_count": 7,
     "metadata": {},
     "output_type": "execute_result"
    }
   ],
   "source": [
    "df_all[df_all['count_day']==1704]"
   ]
  },
  {
   "cell_type": "code",
   "execution_count": 270,
   "metadata": {},
   "outputs": [],
   "source": [
    "#Create just date from datetime variable\n",
    "df_all['date']=[x.date() for x in df_all['time']]"
   ]
  },
  {
   "cell_type": "code",
   "execution_count": 47,
   "metadata": {},
   "outputs": [],
   "source": [
    "#Create day of week from date column\n",
    "df_all['day_of_week']=df_all['date'].dt.weekday_name "
   ]
  },
  {
   "cell_type": "code",
   "execution_count": 26,
   "metadata": {},
   "outputs": [],
   "source": [
    "#Create datehour time slice\n",
    "def date_hour(x):\n",
    "    return datetime(x['year'],x['month'],x['day'],x['hour'],1,1)"
   ]
  },
  {
   "cell_type": "code",
   "execution_count": 27,
   "metadata": {},
   "outputs": [],
   "source": [
    "#Create a new time slice of date and hour\n",
    "df_all['date_hour']=df_all[['year','month','day','hour']].apply(date_hour,axis=1)"
   ]
  },
  {
   "cell_type": "code",
   "execution_count": 275,
   "metadata": {},
   "outputs": [],
   "source": [
    "#Determine how many unique days for each hosts\n",
    "x=pd.DataFrame(df_all.groupby('host').date.nunique()).reset_index()"
   ]
  },
  {
   "cell_type": "code",
   "execution_count": 280,
   "metadata": {},
   "outputs": [],
   "source": [
    "x.columns=['host','dates_unique']"
   ]
  },
  {
   "cell_type": "code",
   "execution_count": 281,
   "metadata": {},
   "outputs": [],
   "source": [
    "df_all=df_all.merge(x,on='host',how='inner')"
   ]
  },
  {
   "cell_type": "markdown",
   "metadata": {},
   "source": [
    "#### Create session ID to understand user behavior "
   ]
  },
  {
   "cell_type": "code",
   "execution_count": 335,
   "metadata": {},
   "outputs": [],
   "source": [
    "df_all['time-1']=df_all['time'].shift(1)"
   ]
  },
  {
   "cell_type": "code",
   "execution_count": 336,
   "metadata": {},
   "outputs": [],
   "source": [
    "def f3(x):\n",
    "    return (x['time']-x['time-1']).seconds/60"
   ]
  },
  {
   "cell_type": "code",
   "execution_count": 337,
   "metadata": {},
   "outputs": [],
   "source": [
    "df_all['diff_minutes']=df_all[['time','time-1']].apply(f3,axis=1)"
   ]
  },
  {
   "cell_type": "code",
   "execution_count": 340,
   "metadata": {},
   "outputs": [],
   "source": [
    "def f4(x):\n",
    "    if x['count']==1:\n",
    "        return 0\n",
    "    else:\n",
    "        return x['diff_minutes']"
   ]
  },
  {
   "cell_type": "code",
   "execution_count": 341,
   "metadata": {},
   "outputs": [],
   "source": [
    "df_all['diff_minutes']=df_all[['count','diff_minutes']].apply(f4,axis=1)"
   ]
  },
  {
   "cell_type": "code",
   "execution_count": 354,
   "metadata": {},
   "outputs": [],
   "source": [
    "df_all.drop(columns='session_id',inplace=True,axis=1)"
   ]
  },
  {
   "cell_type": "code",
   "execution_count": 423,
   "metadata": {},
   "outputs": [],
   "source": [
    "i=1"
   ]
  },
  {
   "cell_type": "code",
   "execution_count": 426,
   "metadata": {},
   "outputs": [],
   "source": [
    "def f5(x):\n",
    "    global i\n",
    "    if ((x['diff_minutes']==0.0) &(x['count']==1)):\n",
    "        i=1\n",
    "        return i\n",
    "    elif (x['diff_minutes']>60.0):\n",
    "        i += 1\n",
    "        return i\n",
    "    else:\n",
    "        return i"
   ]
  },
  {
   "cell_type": "code",
   "execution_count": 428,
   "metadata": {},
   "outputs": [],
   "source": [
    "df_all['session_id']=df_all[['diff_minutes','count']].apply(f5,axis=1)"
   ]
  },
  {
   "cell_type": "markdown",
   "metadata": {},
   "source": [
    "#### Create index of hosts and URL "
   ]
  },
  {
   "cell_type": "code",
   "execution_count": 31,
   "metadata": {},
   "outputs": [],
   "source": [
    "x=pd.DataFrame(df_all['url'].unique())"
   ]
  },
  {
   "cell_type": "code",
   "execution_count": 32,
   "metadata": {},
   "outputs": [],
   "source": [
    "x.columns=['url']"
   ]
  },
  {
   "cell_type": "code",
   "execution_count": 33,
   "metadata": {},
   "outputs": [],
   "source": [
    "x=x.reset_index()"
   ]
  },
  {
   "cell_type": "code",
   "execution_count": 34,
   "metadata": {},
   "outputs": [],
   "source": [
    "x['index']=[x+1 for x in x['index']]"
   ]
  },
  {
   "cell_type": "code",
   "execution_count": 35,
   "metadata": {},
   "outputs": [],
   "source": [
    "x['index']=['P'+str(x) for x in x['index']]"
   ]
  },
  {
   "cell_type": "code",
   "execution_count": 36,
   "metadata": {},
   "outputs": [
    {
     "data": {
      "text/html": [
       "<div>\n",
       "<style scoped>\n",
       "    .dataframe tbody tr th:only-of-type {\n",
       "        vertical-align: middle;\n",
       "    }\n",
       "\n",
       "    .dataframe tbody tr th {\n",
       "        vertical-align: top;\n",
       "    }\n",
       "\n",
       "    .dataframe thead th {\n",
       "        text-align: right;\n",
       "    }\n",
       "</style>\n",
       "<table border=\"1\" class=\"dataframe\">\n",
       "  <thead>\n",
       "    <tr style=\"text-align: right;\">\n",
       "      <th></th>\n",
       "      <th>index</th>\n",
       "      <th>url</th>\n",
       "    </tr>\n",
       "  </thead>\n",
       "  <tbody>\n",
       "    <tr>\n",
       "      <th>0</th>\n",
       "      <td>P1</td>\n",
       "      <td>/ksc.html</td>\n",
       "    </tr>\n",
       "    <tr>\n",
       "      <th>1</th>\n",
       "      <td>P2</td>\n",
       "      <td>/images/ksclogo-medium.gif</td>\n",
       "    </tr>\n",
       "    <tr>\n",
       "      <th>2</th>\n",
       "      <td>P3</td>\n",
       "      <td>/images/MOSAIC-logosmall.gif</td>\n",
       "    </tr>\n",
       "    <tr>\n",
       "      <th>3</th>\n",
       "      <td>P4</td>\n",
       "      <td>/images/USA-logosmall.gif</td>\n",
       "    </tr>\n",
       "    <tr>\n",
       "      <th>4</th>\n",
       "      <td>P5</td>\n",
       "      <td>/images/NASA-logosmall.gif</td>\n",
       "    </tr>\n",
       "  </tbody>\n",
       "</table>\n",
       "</div>"
      ],
      "text/plain": [
       "  index                           url\n",
       "0    P1                     /ksc.html\n",
       "1    P2    /images/ksclogo-medium.gif\n",
       "2    P3  /images/MOSAIC-logosmall.gif\n",
       "3    P4     /images/USA-logosmall.gif\n",
       "4    P5    /images/NASA-logosmall.gif"
      ]
     },
     "execution_count": 36,
     "metadata": {},
     "output_type": "execute_result"
    }
   ],
   "source": [
    "x.head()"
   ]
  },
  {
   "cell_type": "code",
   "execution_count": 37,
   "metadata": {},
   "outputs": [],
   "source": [
    "df_all=df_all.merge(x,on='url',how='inner')"
   ]
  },
  {
   "cell_type": "code",
   "execution_count": 61,
   "metadata": {},
   "outputs": [],
   "source": [
    "y=pd.DataFrame(df_all['host'].unique())"
   ]
  },
  {
   "cell_type": "code",
   "execution_count": 62,
   "metadata": {},
   "outputs": [],
   "source": [
    "y.columns=['host']"
   ]
  },
  {
   "cell_type": "code",
   "execution_count": 63,
   "metadata": {},
   "outputs": [],
   "source": [
    "y=y.reset_index()"
   ]
  },
  {
   "cell_type": "code",
   "execution_count": 57,
   "metadata": {},
   "outputs": [],
   "source": [
    "#y['index']=[x+1 for x in y['index']]"
   ]
  },
  {
   "cell_type": "code",
   "execution_count": 64,
   "metadata": {},
   "outputs": [],
   "source": [
    "y['index']=['U'+str(x+1) for x in y['index']]"
   ]
  },
  {
   "cell_type": "code",
   "execution_count": 67,
   "metadata": {},
   "outputs": [
    {
     "data": {
      "text/html": [
       "<div>\n",
       "<style scoped>\n",
       "    .dataframe tbody tr th:only-of-type {\n",
       "        vertical-align: middle;\n",
       "    }\n",
       "\n",
       "    .dataframe tbody tr th {\n",
       "        vertical-align: top;\n",
       "    }\n",
       "\n",
       "    .dataframe thead th {\n",
       "        text-align: right;\n",
       "    }\n",
       "</style>\n",
       "<table border=\"1\" class=\"dataframe\">\n",
       "  <thead>\n",
       "    <tr style=\"text-align: right;\">\n",
       "      <th></th>\n",
       "      <th>index</th>\n",
       "      <th>host</th>\n",
       "    </tr>\n",
       "  </thead>\n",
       "  <tbody>\n",
       "    <tr>\n",
       "      <th>0</th>\n",
       "      <td>U1</td>\n",
       "      <td>***.novo.dk</td>\n",
       "    </tr>\n",
       "    <tr>\n",
       "      <th>1</th>\n",
       "      <td>U2</td>\n",
       "      <td>01-dynamic-c.wokingham.luna.net</td>\n",
       "    </tr>\n",
       "    <tr>\n",
       "      <th>2</th>\n",
       "      <td>U3</td>\n",
       "      <td>04-dynamic-c.rotterdam.luna.net</td>\n",
       "    </tr>\n",
       "    <tr>\n",
       "      <th>3</th>\n",
       "      <td>U4</td>\n",
       "      <td>04-dynamic-c.wokingham.luna.net</td>\n",
       "    </tr>\n",
       "    <tr>\n",
       "      <th>4</th>\n",
       "      <td>U5</td>\n",
       "      <td>07mb369b.uni-duisburg.de</td>\n",
       "    </tr>\n",
       "  </tbody>\n",
       "</table>\n",
       "</div>"
      ],
      "text/plain": [
       "  index                             host\n",
       "0    U1                      ***.novo.dk\n",
       "1    U2  01-dynamic-c.wokingham.luna.net\n",
       "2    U3  04-dynamic-c.rotterdam.luna.net\n",
       "3    U4  04-dynamic-c.wokingham.luna.net\n",
       "4    U5         07mb369b.uni-duisburg.de"
      ]
     },
     "execution_count": 67,
     "metadata": {},
     "output_type": "execute_result"
    }
   ],
   "source": [
    "y.head()"
   ]
  },
  {
   "cell_type": "code",
   "execution_count": 68,
   "metadata": {},
   "outputs": [],
   "source": [
    "df_all=df_all.merge(y,on='host',how='inner')"
   ]
  },
  {
   "cell_type": "code",
   "execution_count": 14,
   "metadata": {},
   "outputs": [],
   "source": [
    "df_all.drop(columns=['Unnamed: 0'],axis=1,inplace=True)"
   ]
  },
  {
   "cell_type": "code",
   "execution_count": 46,
   "metadata": {},
   "outputs": [],
   "source": [
    "df_all['date'] = pd.to_datetime(df_all['date'])"
   ]
  },
  {
   "cell_type": "code",
   "execution_count": 47,
   "metadata": {},
   "outputs": [],
   "source": [
    "df_all['day_of_week']=df_all['date'].dt.weekday_name "
   ]
  },
  {
   "cell_type": "code",
   "execution_count": 15,
   "metadata": {},
   "outputs": [
    {
     "data": {
      "text/html": [
       "<div>\n",
       "<style scoped>\n",
       "    .dataframe tbody tr th:only-of-type {\n",
       "        vertical-align: middle;\n",
       "    }\n",
       "\n",
       "    .dataframe tbody tr th {\n",
       "        vertical-align: top;\n",
       "    }\n",
       "\n",
       "    .dataframe thead th {\n",
       "        text-align: right;\n",
       "    }\n",
       "</style>\n",
       "<table border=\"1\" class=\"dataframe\">\n",
       "  <thead>\n",
       "    <tr style=\"text-align: right;\">\n",
       "      <th></th>\n",
       "      <th>bytes</th>\n",
       "      <th>day</th>\n",
       "      <th>file_type</th>\n",
       "      <th>file_type_ext</th>\n",
       "      <th>host</th>\n",
       "      <th>hour</th>\n",
       "      <th>method</th>\n",
       "      <th>minute</th>\n",
       "      <th>month</th>\n",
       "      <th>response</th>\n",
       "      <th>second</th>\n",
       "      <th>time</th>\n",
       "      <th>url</th>\n",
       "      <th>year</th>\n",
       "      <th>count</th>\n",
       "      <th>count_day</th>\n",
       "      <th>date</th>\n",
       "      <th>dates_unique</th>\n",
       "      <th>diff_minutes</th>\n",
       "      <th>time-1</th>\n",
       "      <th>session_id</th>\n",
       "      <th>index_x</th>\n",
       "      <th>day_of_week</th>\n",
       "      <th>index_y</th>\n",
       "    </tr>\n",
       "  </thead>\n",
       "  <tbody>\n",
       "    <tr>\n",
       "      <th>0</th>\n",
       "      <td>7067</td>\n",
       "      <td>11</td>\n",
       "      <td>ksc.html</td>\n",
       "      <td>html</td>\n",
       "      <td>***.novo.dk</td>\n",
       "      <td>12</td>\n",
       "      <td>GET</td>\n",
       "      <td>17</td>\n",
       "      <td>7</td>\n",
       "      <td>200</td>\n",
       "      <td>9</td>\n",
       "      <td>1995-07-11 12:17:09</td>\n",
       "      <td>/ksc.html</td>\n",
       "      <td>1995</td>\n",
       "      <td>1</td>\n",
       "      <td>1</td>\n",
       "      <td>1995-07-11</td>\n",
       "      <td>2</td>\n",
       "      <td>0.000000</td>\n",
       "      <td>NaN</td>\n",
       "      <td>1</td>\n",
       "      <td>P1</td>\n",
       "      <td>Tuesday</td>\n",
       "      <td>U1</td>\n",
       "    </tr>\n",
       "    <tr>\n",
       "      <th>1</th>\n",
       "      <td>5866</td>\n",
       "      <td>11</td>\n",
       "      <td>ksclogo-medium.gif</td>\n",
       "      <td>gif</td>\n",
       "      <td>***.novo.dk</td>\n",
       "      <td>12</td>\n",
       "      <td>GET</td>\n",
       "      <td>17</td>\n",
       "      <td>7</td>\n",
       "      <td>200</td>\n",
       "      <td>11</td>\n",
       "      <td>1995-07-11 12:17:11</td>\n",
       "      <td>/images/ksclogo-medium.gif</td>\n",
       "      <td>1995</td>\n",
       "      <td>2</td>\n",
       "      <td>2</td>\n",
       "      <td>1995-07-11</td>\n",
       "      <td>2</td>\n",
       "      <td>0.033333</td>\n",
       "      <td>1995-07-11 12:17:09</td>\n",
       "      <td>1</td>\n",
       "      <td>P2</td>\n",
       "      <td>Tuesday</td>\n",
       "      <td>U1</td>\n",
       "    </tr>\n",
       "    <tr>\n",
       "      <th>2</th>\n",
       "      <td>363</td>\n",
       "      <td>11</td>\n",
       "      <td>MOSAIC-logosmall.gif</td>\n",
       "      <td>gif</td>\n",
       "      <td>***.novo.dk</td>\n",
       "      <td>12</td>\n",
       "      <td>GET</td>\n",
       "      <td>17</td>\n",
       "      <td>7</td>\n",
       "      <td>200</td>\n",
       "      <td>31</td>\n",
       "      <td>1995-07-11 12:17:31</td>\n",
       "      <td>/images/MOSAIC-logosmall.gif</td>\n",
       "      <td>1995</td>\n",
       "      <td>3</td>\n",
       "      <td>3</td>\n",
       "      <td>1995-07-11</td>\n",
       "      <td>2</td>\n",
       "      <td>0.333333</td>\n",
       "      <td>1995-07-11 12:17:11</td>\n",
       "      <td>1</td>\n",
       "      <td>P3</td>\n",
       "      <td>Tuesday</td>\n",
       "      <td>U1</td>\n",
       "    </tr>\n",
       "    <tr>\n",
       "      <th>3</th>\n",
       "      <td>234</td>\n",
       "      <td>11</td>\n",
       "      <td>USA-logosmall.gif</td>\n",
       "      <td>gif</td>\n",
       "      <td>***.novo.dk</td>\n",
       "      <td>12</td>\n",
       "      <td>GET</td>\n",
       "      <td>17</td>\n",
       "      <td>7</td>\n",
       "      <td>200</td>\n",
       "      <td>33</td>\n",
       "      <td>1995-07-11 12:17:33</td>\n",
       "      <td>/images/USA-logosmall.gif</td>\n",
       "      <td>1995</td>\n",
       "      <td>4</td>\n",
       "      <td>4</td>\n",
       "      <td>1995-07-11</td>\n",
       "      <td>2</td>\n",
       "      <td>0.033333</td>\n",
       "      <td>1995-07-11 12:17:31</td>\n",
       "      <td>1</td>\n",
       "      <td>P4</td>\n",
       "      <td>Tuesday</td>\n",
       "      <td>U1</td>\n",
       "    </tr>\n",
       "    <tr>\n",
       "      <th>4</th>\n",
       "      <td>786</td>\n",
       "      <td>11</td>\n",
       "      <td>NASA-logosmall.gif</td>\n",
       "      <td>gif</td>\n",
       "      <td>***.novo.dk</td>\n",
       "      <td>12</td>\n",
       "      <td>GET</td>\n",
       "      <td>17</td>\n",
       "      <td>7</td>\n",
       "      <td>200</td>\n",
       "      <td>34</td>\n",
       "      <td>1995-07-11 12:17:34</td>\n",
       "      <td>/images/NASA-logosmall.gif</td>\n",
       "      <td>1995</td>\n",
       "      <td>5</td>\n",
       "      <td>5</td>\n",
       "      <td>1995-07-11</td>\n",
       "      <td>2</td>\n",
       "      <td>0.016667</td>\n",
       "      <td>1995-07-11 12:17:33</td>\n",
       "      <td>1</td>\n",
       "      <td>P5</td>\n",
       "      <td>Tuesday</td>\n",
       "      <td>U1</td>\n",
       "    </tr>\n",
       "  </tbody>\n",
       "</table>\n",
       "</div>"
      ],
      "text/plain": [
       "   bytes  day             file_type file_type_ext         host  hour method  \\\n",
       "0   7067   11              ksc.html          html  ***.novo.dk    12    GET   \n",
       "1   5866   11    ksclogo-medium.gif           gif  ***.novo.dk    12    GET   \n",
       "2    363   11  MOSAIC-logosmall.gif           gif  ***.novo.dk    12    GET   \n",
       "3    234   11     USA-logosmall.gif           gif  ***.novo.dk    12    GET   \n",
       "4    786   11    NASA-logosmall.gif           gif  ***.novo.dk    12    GET   \n",
       "\n",
       "   minute  month  response  second                 time  \\\n",
       "0      17      7       200       9  1995-07-11 12:17:09   \n",
       "1      17      7       200      11  1995-07-11 12:17:11   \n",
       "2      17      7       200      31  1995-07-11 12:17:31   \n",
       "3      17      7       200      33  1995-07-11 12:17:33   \n",
       "4      17      7       200      34  1995-07-11 12:17:34   \n",
       "\n",
       "                            url  year  count  count_day        date  \\\n",
       "0                     /ksc.html  1995      1          1  1995-07-11   \n",
       "1    /images/ksclogo-medium.gif  1995      2          2  1995-07-11   \n",
       "2  /images/MOSAIC-logosmall.gif  1995      3          3  1995-07-11   \n",
       "3     /images/USA-logosmall.gif  1995      4          4  1995-07-11   \n",
       "4    /images/NASA-logosmall.gif  1995      5          5  1995-07-11   \n",
       "\n",
       "   dates_unique  diff_minutes               time-1  session_id index_x  \\\n",
       "0             2      0.000000                  NaN           1      P1   \n",
       "1             2      0.033333  1995-07-11 12:17:09           1      P2   \n",
       "2             2      0.333333  1995-07-11 12:17:11           1      P3   \n",
       "3             2      0.033333  1995-07-11 12:17:31           1      P4   \n",
       "4             2      0.016667  1995-07-11 12:17:33           1      P5   \n",
       "\n",
       "  day_of_week index_y  \n",
       "0     Tuesday      U1  \n",
       "1     Tuesday      U1  \n",
       "2     Tuesday      U1  \n",
       "3     Tuesday      U1  \n",
       "4     Tuesday      U1  "
      ]
     },
     "execution_count": 15,
     "metadata": {},
     "output_type": "execute_result"
    }
   ],
   "source": [
    "df_all.head()"
   ]
  },
  {
   "cell_type": "code",
   "execution_count": 42,
   "metadata": {},
   "outputs": [],
   "source": [
    "df_all=df_all.set_index('host')"
   ]
  },
  {
   "cell_type": "code",
   "execution_count": 10,
   "metadata": {},
   "outputs": [],
   "source": [
    "df_all['time']=pd.to_datetime(df_all['time'])"
   ]
  },
  {
   "cell_type": "code",
   "execution_count": 11,
   "metadata": {},
   "outputs": [],
   "source": [
    "df_all['date']=[datetime.strptime(x, '%Y-%m-%d') for x in df_all['date']]"
   ]
  },
  {
   "cell_type": "code",
   "execution_count": 31,
   "metadata": {},
   "outputs": [
    {
     "data": {
      "text/html": [
       "<div>\n",
       "<style scoped>\n",
       "    .dataframe tbody tr th:only-of-type {\n",
       "        vertical-align: middle;\n",
       "    }\n",
       "\n",
       "    .dataframe tbody tr th {\n",
       "        vertical-align: top;\n",
       "    }\n",
       "\n",
       "    .dataframe thead th {\n",
       "        text-align: right;\n",
       "    }\n",
       "</style>\n",
       "<table border=\"1\" class=\"dataframe\">\n",
       "  <thead>\n",
       "    <tr style=\"text-align: right;\">\n",
       "      <th></th>\n",
       "      <th>host</th>\n",
       "      <th>bytes</th>\n",
       "      <th>day</th>\n",
       "      <th>file_type</th>\n",
       "      <th>file_type_ext</th>\n",
       "      <th>hour</th>\n",
       "      <th>method</th>\n",
       "      <th>minute</th>\n",
       "      <th>month</th>\n",
       "      <th>response</th>\n",
       "      <th>second</th>\n",
       "      <th>time</th>\n",
       "      <th>url</th>\n",
       "      <th>year</th>\n",
       "      <th>count</th>\n",
       "      <th>count_day</th>\n",
       "      <th>date</th>\n",
       "      <th>dates_unique</th>\n",
       "      <th>diff_minutes</th>\n",
       "      <th>time-1</th>\n",
       "      <th>session_id</th>\n",
       "      <th>index_x</th>\n",
       "      <th>day_of_week</th>\n",
       "      <th>index_y</th>\n",
       "      <th>date_hour</th>\n",
       "    </tr>\n",
       "  </thead>\n",
       "  <tbody>\n",
       "    <tr>\n",
       "      <th>0</th>\n",
       "      <td>***.novo.dk</td>\n",
       "      <td>7067</td>\n",
       "      <td>11</td>\n",
       "      <td>ksc.html</td>\n",
       "      <td>html</td>\n",
       "      <td>12</td>\n",
       "      <td>GET</td>\n",
       "      <td>17</td>\n",
       "      <td>7</td>\n",
       "      <td>200</td>\n",
       "      <td>9</td>\n",
       "      <td>1995-07-11 12:17:09</td>\n",
       "      <td>/ksc.html</td>\n",
       "      <td>1995</td>\n",
       "      <td>1</td>\n",
       "      <td>1</td>\n",
       "      <td>1995-07-11</td>\n",
       "      <td>2</td>\n",
       "      <td>0.000000</td>\n",
       "      <td>NaN</td>\n",
       "      <td>1</td>\n",
       "      <td>P1</td>\n",
       "      <td>Tuesday</td>\n",
       "      <td>U1</td>\n",
       "      <td>1995-07-11 12:01:01</td>\n",
       "    </tr>\n",
       "    <tr>\n",
       "      <th>1</th>\n",
       "      <td>***.novo.dk</td>\n",
       "      <td>5866</td>\n",
       "      <td>11</td>\n",
       "      <td>ksclogo-medium.gif</td>\n",
       "      <td>gif</td>\n",
       "      <td>12</td>\n",
       "      <td>GET</td>\n",
       "      <td>17</td>\n",
       "      <td>7</td>\n",
       "      <td>200</td>\n",
       "      <td>11</td>\n",
       "      <td>1995-07-11 12:17:11</td>\n",
       "      <td>/images/ksclogo-medium.gif</td>\n",
       "      <td>1995</td>\n",
       "      <td>2</td>\n",
       "      <td>2</td>\n",
       "      <td>1995-07-11</td>\n",
       "      <td>2</td>\n",
       "      <td>0.033333</td>\n",
       "      <td>1995-07-11 12:17:09</td>\n",
       "      <td>1</td>\n",
       "      <td>P2</td>\n",
       "      <td>Tuesday</td>\n",
       "      <td>U1</td>\n",
       "      <td>1995-07-11 12:01:01</td>\n",
       "    </tr>\n",
       "    <tr>\n",
       "      <th>2</th>\n",
       "      <td>***.novo.dk</td>\n",
       "      <td>363</td>\n",
       "      <td>11</td>\n",
       "      <td>MOSAIC-logosmall.gif</td>\n",
       "      <td>gif</td>\n",
       "      <td>12</td>\n",
       "      <td>GET</td>\n",
       "      <td>17</td>\n",
       "      <td>7</td>\n",
       "      <td>200</td>\n",
       "      <td>31</td>\n",
       "      <td>1995-07-11 12:17:31</td>\n",
       "      <td>/images/MOSAIC-logosmall.gif</td>\n",
       "      <td>1995</td>\n",
       "      <td>3</td>\n",
       "      <td>3</td>\n",
       "      <td>1995-07-11</td>\n",
       "      <td>2</td>\n",
       "      <td>0.333333</td>\n",
       "      <td>1995-07-11 12:17:11</td>\n",
       "      <td>1</td>\n",
       "      <td>P3</td>\n",
       "      <td>Tuesday</td>\n",
       "      <td>U1</td>\n",
       "      <td>1995-07-11 12:01:01</td>\n",
       "    </tr>\n",
       "    <tr>\n",
       "      <th>3</th>\n",
       "      <td>***.novo.dk</td>\n",
       "      <td>234</td>\n",
       "      <td>11</td>\n",
       "      <td>USA-logosmall.gif</td>\n",
       "      <td>gif</td>\n",
       "      <td>12</td>\n",
       "      <td>GET</td>\n",
       "      <td>17</td>\n",
       "      <td>7</td>\n",
       "      <td>200</td>\n",
       "      <td>33</td>\n",
       "      <td>1995-07-11 12:17:33</td>\n",
       "      <td>/images/USA-logosmall.gif</td>\n",
       "      <td>1995</td>\n",
       "      <td>4</td>\n",
       "      <td>4</td>\n",
       "      <td>1995-07-11</td>\n",
       "      <td>2</td>\n",
       "      <td>0.033333</td>\n",
       "      <td>1995-07-11 12:17:31</td>\n",
       "      <td>1</td>\n",
       "      <td>P4</td>\n",
       "      <td>Tuesday</td>\n",
       "      <td>U1</td>\n",
       "      <td>1995-07-11 12:01:01</td>\n",
       "    </tr>\n",
       "    <tr>\n",
       "      <th>4</th>\n",
       "      <td>***.novo.dk</td>\n",
       "      <td>786</td>\n",
       "      <td>11</td>\n",
       "      <td>NASA-logosmall.gif</td>\n",
       "      <td>gif</td>\n",
       "      <td>12</td>\n",
       "      <td>GET</td>\n",
       "      <td>17</td>\n",
       "      <td>7</td>\n",
       "      <td>200</td>\n",
       "      <td>34</td>\n",
       "      <td>1995-07-11 12:17:34</td>\n",
       "      <td>/images/NASA-logosmall.gif</td>\n",
       "      <td>1995</td>\n",
       "      <td>5</td>\n",
       "      <td>5</td>\n",
       "      <td>1995-07-11</td>\n",
       "      <td>2</td>\n",
       "      <td>0.016667</td>\n",
       "      <td>1995-07-11 12:17:33</td>\n",
       "      <td>1</td>\n",
       "      <td>P5</td>\n",
       "      <td>Tuesday</td>\n",
       "      <td>U1</td>\n",
       "      <td>1995-07-11 12:01:01</td>\n",
       "    </tr>\n",
       "  </tbody>\n",
       "</table>\n",
       "</div>"
      ],
      "text/plain": [
       "          host  bytes  day             file_type file_type_ext  hour method  \\\n",
       "0  ***.novo.dk   7067   11              ksc.html          html    12    GET   \n",
       "1  ***.novo.dk   5866   11    ksclogo-medium.gif           gif    12    GET   \n",
       "2  ***.novo.dk    363   11  MOSAIC-logosmall.gif           gif    12    GET   \n",
       "3  ***.novo.dk    234   11     USA-logosmall.gif           gif    12    GET   \n",
       "4  ***.novo.dk    786   11    NASA-logosmall.gif           gif    12    GET   \n",
       "\n",
       "   minute  month  response  second                time  \\\n",
       "0      17      7       200       9 1995-07-11 12:17:09   \n",
       "1      17      7       200      11 1995-07-11 12:17:11   \n",
       "2      17      7       200      31 1995-07-11 12:17:31   \n",
       "3      17      7       200      33 1995-07-11 12:17:33   \n",
       "4      17      7       200      34 1995-07-11 12:17:34   \n",
       "\n",
       "                            url  year  count  count_day       date  \\\n",
       "0                     /ksc.html  1995      1          1 1995-07-11   \n",
       "1    /images/ksclogo-medium.gif  1995      2          2 1995-07-11   \n",
       "2  /images/MOSAIC-logosmall.gif  1995      3          3 1995-07-11   \n",
       "3     /images/USA-logosmall.gif  1995      4          4 1995-07-11   \n",
       "4    /images/NASA-logosmall.gif  1995      5          5 1995-07-11   \n",
       "\n",
       "   dates_unique  diff_minutes               time-1  session_id index_x  \\\n",
       "0             2      0.000000                  NaN           1      P1   \n",
       "1             2      0.033333  1995-07-11 12:17:09           1      P2   \n",
       "2             2      0.333333  1995-07-11 12:17:11           1      P3   \n",
       "3             2      0.033333  1995-07-11 12:17:31           1      P4   \n",
       "4             2      0.016667  1995-07-11 12:17:33           1      P5   \n",
       "\n",
       "  day_of_week index_y           date_hour  \n",
       "0     Tuesday      U1 1995-07-11 12:01:01  \n",
       "1     Tuesday      U1 1995-07-11 12:01:01  \n",
       "2     Tuesday      U1 1995-07-11 12:01:01  \n",
       "3     Tuesday      U1 1995-07-11 12:01:01  \n",
       "4     Tuesday      U1 1995-07-11 12:01:01  "
      ]
     },
     "execution_count": 31,
     "metadata": {},
     "output_type": "execute_result"
    }
   ],
   "source": [
    "df_all.head()"
   ]
  },
  {
   "cell_type": "markdown",
   "metadata": {},
   "source": [
    "#### Group URL into high level grouping "
   ]
  },
  {
   "cell_type": "code",
   "execution_count": 224,
   "metadata": {},
   "outputs": [],
   "source": [
    "x = pd.DataFrame(df_all['url'].str.split(\"/\").values.tolist())"
   ]
  },
  {
   "cell_type": "code",
   "execution_count": 241,
   "metadata": {},
   "outputs": [
    {
     "data": {
      "text/plain": [
       "standard image pages     1207552\n",
       "shuttle mission pages    1107378\n",
       "past mission pages        488179\n",
       "others                    463742\n",
       "icon pages                110497\n",
       "home page                  84247\n",
       "Name: page_grouping, dtype: int64"
      ]
     },
     "execution_count": 241,
     "metadata": {},
     "output_type": "execute_result"
    }
   ],
   "source": [
    "x['page_grouping'].value_counts()"
   ]
  },
  {
   "cell_type": "code",
   "execution_count": 237,
   "metadata": {},
   "outputs": [],
   "source": [
    "def f7(x):\n",
    "    if ('shuttle' in str(x).lower()):\n",
    "        return 'shuttle mission pages'\n",
    "    elif ('images' in str(x).lower()):\n",
    "        return 'standard image pages'\n",
    "    elif ('history' in str(x).lower()):\n",
    "        return 'past mission pages'\n",
    "    elif ('ksc.html' in str(x).lower()  or('ksc.hmtl' in str(x).lower()) or ('ksc.htlm' in str(x).lower()) or ('kcs.html' in str(x).lower())):\n",
    "        return 'home page'\n",
    "    elif ('icons' in str(x).lower()):\n",
    "        return 'icon pages'\n",
    "    else:\n",
    "        return 'others'"
   ]
  },
  {
   "cell_type": "code",
   "execution_count": 238,
   "metadata": {},
   "outputs": [],
   "source": [
    "x['page_grouping']=x[1].map(f7)"
   ]
  },
  {
   "cell_type": "code",
   "execution_count": 239,
   "metadata": {},
   "outputs": [
    {
     "data": {
      "text/html": [
       "<div>\n",
       "<style scoped>\n",
       "    .dataframe tbody tr th:only-of-type {\n",
       "        vertical-align: middle;\n",
       "    }\n",
       "\n",
       "    .dataframe tbody tr th {\n",
       "        vertical-align: top;\n",
       "    }\n",
       "\n",
       "    .dataframe thead th {\n",
       "        text-align: right;\n",
       "    }\n",
       "</style>\n",
       "<table border=\"1\" class=\"dataframe\">\n",
       "  <thead>\n",
       "    <tr style=\"text-align: right;\">\n",
       "      <th></th>\n",
       "      <th>0</th>\n",
       "      <th>1</th>\n",
       "      <th>2</th>\n",
       "      <th>3</th>\n",
       "      <th>4</th>\n",
       "      <th>5</th>\n",
       "      <th>6</th>\n",
       "      <th>7</th>\n",
       "      <th>8</th>\n",
       "      <th>9</th>\n",
       "      <th>10</th>\n",
       "      <th>11</th>\n",
       "      <th>12</th>\n",
       "      <th>13</th>\n",
       "      <th>14</th>\n",
       "      <th>15</th>\n",
       "      <th>16</th>\n",
       "      <th>page_grouping</th>\n",
       "    </tr>\n",
       "  </thead>\n",
       "  <tbody>\n",
       "    <tr>\n",
       "      <th>0</th>\n",
       "      <td></td>\n",
       "      <td>ksc.html</td>\n",
       "      <td>None</td>\n",
       "      <td>None</td>\n",
       "      <td>None</td>\n",
       "      <td>None</td>\n",
       "      <td>None</td>\n",
       "      <td>None</td>\n",
       "      <td>None</td>\n",
       "      <td>None</td>\n",
       "      <td>None</td>\n",
       "      <td>None</td>\n",
       "      <td>None</td>\n",
       "      <td>None</td>\n",
       "      <td>None</td>\n",
       "      <td>None</td>\n",
       "      <td>None</td>\n",
       "      <td>home page</td>\n",
       "    </tr>\n",
       "    <tr>\n",
       "      <th>1</th>\n",
       "      <td></td>\n",
       "      <td>images</td>\n",
       "      <td>ksclogo-medium.gif</td>\n",
       "      <td>None</td>\n",
       "      <td>None</td>\n",
       "      <td>None</td>\n",
       "      <td>None</td>\n",
       "      <td>None</td>\n",
       "      <td>None</td>\n",
       "      <td>None</td>\n",
       "      <td>None</td>\n",
       "      <td>None</td>\n",
       "      <td>None</td>\n",
       "      <td>None</td>\n",
       "      <td>None</td>\n",
       "      <td>None</td>\n",
       "      <td>None</td>\n",
       "      <td>standard image pages</td>\n",
       "    </tr>\n",
       "    <tr>\n",
       "      <th>2</th>\n",
       "      <td></td>\n",
       "      <td>images</td>\n",
       "      <td>MOSAIC-logosmall.gif</td>\n",
       "      <td>None</td>\n",
       "      <td>None</td>\n",
       "      <td>None</td>\n",
       "      <td>None</td>\n",
       "      <td>None</td>\n",
       "      <td>None</td>\n",
       "      <td>None</td>\n",
       "      <td>None</td>\n",
       "      <td>None</td>\n",
       "      <td>None</td>\n",
       "      <td>None</td>\n",
       "      <td>None</td>\n",
       "      <td>None</td>\n",
       "      <td>None</td>\n",
       "      <td>standard image pages</td>\n",
       "    </tr>\n",
       "    <tr>\n",
       "      <th>3</th>\n",
       "      <td></td>\n",
       "      <td>images</td>\n",
       "      <td>USA-logosmall.gif</td>\n",
       "      <td>None</td>\n",
       "      <td>None</td>\n",
       "      <td>None</td>\n",
       "      <td>None</td>\n",
       "      <td>None</td>\n",
       "      <td>None</td>\n",
       "      <td>None</td>\n",
       "      <td>None</td>\n",
       "      <td>None</td>\n",
       "      <td>None</td>\n",
       "      <td>None</td>\n",
       "      <td>None</td>\n",
       "      <td>None</td>\n",
       "      <td>None</td>\n",
       "      <td>standard image pages</td>\n",
       "    </tr>\n",
       "    <tr>\n",
       "      <th>4</th>\n",
       "      <td></td>\n",
       "      <td>images</td>\n",
       "      <td>NASA-logosmall.gif</td>\n",
       "      <td>None</td>\n",
       "      <td>None</td>\n",
       "      <td>None</td>\n",
       "      <td>None</td>\n",
       "      <td>None</td>\n",
       "      <td>None</td>\n",
       "      <td>None</td>\n",
       "      <td>None</td>\n",
       "      <td>None</td>\n",
       "      <td>None</td>\n",
       "      <td>None</td>\n",
       "      <td>None</td>\n",
       "      <td>None</td>\n",
       "      <td>None</td>\n",
       "      <td>standard image pages</td>\n",
       "    </tr>\n",
       "  </tbody>\n",
       "</table>\n",
       "</div>"
      ],
      "text/plain": [
       "  0         1                     2     3     4     5     6     7     8     9  \\\n",
       "0    ksc.html                  None  None  None  None  None  None  None  None   \n",
       "1      images    ksclogo-medium.gif  None  None  None  None  None  None  None   \n",
       "2      images  MOSAIC-logosmall.gif  None  None  None  None  None  None  None   \n",
       "3      images     USA-logosmall.gif  None  None  None  None  None  None  None   \n",
       "4      images    NASA-logosmall.gif  None  None  None  None  None  None  None   \n",
       "\n",
       "     10    11    12    13    14    15    16         page_grouping  \n",
       "0  None  None  None  None  None  None  None             home page  \n",
       "1  None  None  None  None  None  None  None  standard image pages  \n",
       "2  None  None  None  None  None  None  None  standard image pages  \n",
       "3  None  None  None  None  None  None  None  standard image pages  \n",
       "4  None  None  None  None  None  None  None  standard image pages  "
      ]
     },
     "execution_count": 239,
     "metadata": {},
     "output_type": "execute_result"
    }
   ],
   "source": [
    "x.head()"
   ]
  },
  {
   "cell_type": "code",
   "execution_count": 242,
   "metadata": {},
   "outputs": [],
   "source": [
    "df_all['page_grouping']=x['page_grouping']"
   ]
  },
  {
   "cell_type": "code",
   "execution_count": 243,
   "metadata": {},
   "outputs": [
    {
     "data": {
      "text/html": [
       "<div>\n",
       "<style scoped>\n",
       "    .dataframe tbody tr th:only-of-type {\n",
       "        vertical-align: middle;\n",
       "    }\n",
       "\n",
       "    .dataframe tbody tr th {\n",
       "        vertical-align: top;\n",
       "    }\n",
       "\n",
       "    .dataframe thead th {\n",
       "        text-align: right;\n",
       "    }\n",
       "</style>\n",
       "<table border=\"1\" class=\"dataframe\">\n",
       "  <thead>\n",
       "    <tr style=\"text-align: right;\">\n",
       "      <th></th>\n",
       "      <th>host</th>\n",
       "      <th>bytes</th>\n",
       "      <th>day</th>\n",
       "      <th>file_type</th>\n",
       "      <th>file_type_ext</th>\n",
       "      <th>hour</th>\n",
       "      <th>method</th>\n",
       "      <th>minute</th>\n",
       "      <th>month</th>\n",
       "      <th>response</th>\n",
       "      <th>second</th>\n",
       "      <th>time</th>\n",
       "      <th>url</th>\n",
       "      <th>year</th>\n",
       "      <th>count</th>\n",
       "      <th>count_day</th>\n",
       "      <th>date</th>\n",
       "      <th>dates_unique</th>\n",
       "      <th>diff_minutes</th>\n",
       "      <th>time-1</th>\n",
       "      <th>session_id</th>\n",
       "      <th>index_x</th>\n",
       "      <th>day_of_week</th>\n",
       "      <th>index_y</th>\n",
       "      <th>date_hour</th>\n",
       "      <th>page_grouping</th>\n",
       "    </tr>\n",
       "  </thead>\n",
       "  <tbody>\n",
       "    <tr>\n",
       "      <th>0</th>\n",
       "      <td>***.novo.dk</td>\n",
       "      <td>7067</td>\n",
       "      <td>11</td>\n",
       "      <td>ksc.html</td>\n",
       "      <td>html</td>\n",
       "      <td>12</td>\n",
       "      <td>GET</td>\n",
       "      <td>17</td>\n",
       "      <td>7</td>\n",
       "      <td>200</td>\n",
       "      <td>9</td>\n",
       "      <td>1995-07-11 12:17:09</td>\n",
       "      <td>/ksc.html</td>\n",
       "      <td>1995</td>\n",
       "      <td>1</td>\n",
       "      <td>1</td>\n",
       "      <td>1995-07-11</td>\n",
       "      <td>2</td>\n",
       "      <td>0.00</td>\n",
       "      <td>NaN</td>\n",
       "      <td>1</td>\n",
       "      <td>P1</td>\n",
       "      <td>Tuesday</td>\n",
       "      <td>U1</td>\n",
       "      <td>1995-07-11 12:01:01</td>\n",
       "      <td>home page</td>\n",
       "    </tr>\n",
       "    <tr>\n",
       "      <th>1</th>\n",
       "      <td>***.novo.dk</td>\n",
       "      <td>5866</td>\n",
       "      <td>11</td>\n",
       "      <td>ksclogo-medium.gif</td>\n",
       "      <td>gif</td>\n",
       "      <td>12</td>\n",
       "      <td>GET</td>\n",
       "      <td>17</td>\n",
       "      <td>7</td>\n",
       "      <td>200</td>\n",
       "      <td>11</td>\n",
       "      <td>1995-07-11 12:17:11</td>\n",
       "      <td>/images/ksclogo-medium.gif</td>\n",
       "      <td>1995</td>\n",
       "      <td>2</td>\n",
       "      <td>2</td>\n",
       "      <td>1995-07-11</td>\n",
       "      <td>2</td>\n",
       "      <td>0.03</td>\n",
       "      <td>1995-07-11 12:17:09</td>\n",
       "      <td>1</td>\n",
       "      <td>P2</td>\n",
       "      <td>Tuesday</td>\n",
       "      <td>U1</td>\n",
       "      <td>1995-07-11 12:01:01</td>\n",
       "      <td>standard image pages</td>\n",
       "    </tr>\n",
       "    <tr>\n",
       "      <th>2</th>\n",
       "      <td>***.novo.dk</td>\n",
       "      <td>363</td>\n",
       "      <td>11</td>\n",
       "      <td>MOSAIC-logosmall.gif</td>\n",
       "      <td>gif</td>\n",
       "      <td>12</td>\n",
       "      <td>GET</td>\n",
       "      <td>17</td>\n",
       "      <td>7</td>\n",
       "      <td>200</td>\n",
       "      <td>31</td>\n",
       "      <td>1995-07-11 12:17:31</td>\n",
       "      <td>/images/MOSAIC-logosmall.gif</td>\n",
       "      <td>1995</td>\n",
       "      <td>3</td>\n",
       "      <td>3</td>\n",
       "      <td>1995-07-11</td>\n",
       "      <td>2</td>\n",
       "      <td>0.33</td>\n",
       "      <td>1995-07-11 12:17:11</td>\n",
       "      <td>1</td>\n",
       "      <td>P3</td>\n",
       "      <td>Tuesday</td>\n",
       "      <td>U1</td>\n",
       "      <td>1995-07-11 12:01:01</td>\n",
       "      <td>standard image pages</td>\n",
       "    </tr>\n",
       "    <tr>\n",
       "      <th>3</th>\n",
       "      <td>***.novo.dk</td>\n",
       "      <td>234</td>\n",
       "      <td>11</td>\n",
       "      <td>USA-logosmall.gif</td>\n",
       "      <td>gif</td>\n",
       "      <td>12</td>\n",
       "      <td>GET</td>\n",
       "      <td>17</td>\n",
       "      <td>7</td>\n",
       "      <td>200</td>\n",
       "      <td>33</td>\n",
       "      <td>1995-07-11 12:17:33</td>\n",
       "      <td>/images/USA-logosmall.gif</td>\n",
       "      <td>1995</td>\n",
       "      <td>4</td>\n",
       "      <td>4</td>\n",
       "      <td>1995-07-11</td>\n",
       "      <td>2</td>\n",
       "      <td>0.03</td>\n",
       "      <td>1995-07-11 12:17:31</td>\n",
       "      <td>1</td>\n",
       "      <td>P4</td>\n",
       "      <td>Tuesday</td>\n",
       "      <td>U1</td>\n",
       "      <td>1995-07-11 12:01:01</td>\n",
       "      <td>standard image pages</td>\n",
       "    </tr>\n",
       "    <tr>\n",
       "      <th>4</th>\n",
       "      <td>***.novo.dk</td>\n",
       "      <td>786</td>\n",
       "      <td>11</td>\n",
       "      <td>NASA-logosmall.gif</td>\n",
       "      <td>gif</td>\n",
       "      <td>12</td>\n",
       "      <td>GET</td>\n",
       "      <td>17</td>\n",
       "      <td>7</td>\n",
       "      <td>200</td>\n",
       "      <td>34</td>\n",
       "      <td>1995-07-11 12:17:34</td>\n",
       "      <td>/images/NASA-logosmall.gif</td>\n",
       "      <td>1995</td>\n",
       "      <td>5</td>\n",
       "      <td>5</td>\n",
       "      <td>1995-07-11</td>\n",
       "      <td>2</td>\n",
       "      <td>0.02</td>\n",
       "      <td>1995-07-11 12:17:33</td>\n",
       "      <td>1</td>\n",
       "      <td>P5</td>\n",
       "      <td>Tuesday</td>\n",
       "      <td>U1</td>\n",
       "      <td>1995-07-11 12:01:01</td>\n",
       "      <td>standard image pages</td>\n",
       "    </tr>\n",
       "  </tbody>\n",
       "</table>\n",
       "</div>"
      ],
      "text/plain": [
       "          host  bytes  day             file_type file_type_ext  hour method  \\\n",
       "0  ***.novo.dk   7067   11              ksc.html          html    12    GET   \n",
       "1  ***.novo.dk   5866   11    ksclogo-medium.gif           gif    12    GET   \n",
       "2  ***.novo.dk    363   11  MOSAIC-logosmall.gif           gif    12    GET   \n",
       "3  ***.novo.dk    234   11     USA-logosmall.gif           gif    12    GET   \n",
       "4  ***.novo.dk    786   11    NASA-logosmall.gif           gif    12    GET   \n",
       "\n",
       "   minute  month  response  second                time  \\\n",
       "0      17      7       200       9 1995-07-11 12:17:09   \n",
       "1      17      7       200      11 1995-07-11 12:17:11   \n",
       "2      17      7       200      31 1995-07-11 12:17:31   \n",
       "3      17      7       200      33 1995-07-11 12:17:33   \n",
       "4      17      7       200      34 1995-07-11 12:17:34   \n",
       "\n",
       "                            url  year  count  count_day       date  \\\n",
       "0                     /ksc.html  1995      1          1 1995-07-11   \n",
       "1    /images/ksclogo-medium.gif  1995      2          2 1995-07-11   \n",
       "2  /images/MOSAIC-logosmall.gif  1995      3          3 1995-07-11   \n",
       "3     /images/USA-logosmall.gif  1995      4          4 1995-07-11   \n",
       "4    /images/NASA-logosmall.gif  1995      5          5 1995-07-11   \n",
       "\n",
       "   dates_unique  diff_minutes               time-1  session_id index_x  \\\n",
       "0             2          0.00                  NaN           1      P1   \n",
       "1             2          0.03  1995-07-11 12:17:09           1      P2   \n",
       "2             2          0.33  1995-07-11 12:17:11           1      P3   \n",
       "3             2          0.03  1995-07-11 12:17:31           1      P4   \n",
       "4             2          0.02  1995-07-11 12:17:33           1      P5   \n",
       "\n",
       "  day_of_week index_y           date_hour         page_grouping  \n",
       "0     Tuesday      U1 1995-07-11 12:01:01             home page  \n",
       "1     Tuesday      U1 1995-07-11 12:01:01  standard image pages  \n",
       "2     Tuesday      U1 1995-07-11 12:01:01  standard image pages  \n",
       "3     Tuesday      U1 1995-07-11 12:01:01  standard image pages  \n",
       "4     Tuesday      U1 1995-07-11 12:01:01  standard image pages  "
      ]
     },
     "execution_count": 243,
     "metadata": {},
     "output_type": "execute_result"
    }
   ],
   "source": [
    "df_all.head()"
   ]
  },
  {
   "cell_type": "code",
   "execution_count": 244,
   "metadata": {},
   "outputs": [],
   "source": [
    "df_all.to_csv(\"/Users/sri.t/Desktop/nsas_logs.csv\",header=True,sep=',',encoding='utf-8')"
   ]
  },
  {
   "cell_type": "code",
   "execution_count": 5,
   "metadata": {},
   "outputs": [],
   "source": [
    "df_all=pd.read_csv('/Users/sri.t/Desktop/nsas_logs.csv',sep=',')"
   ]
  },
  {
   "cell_type": "code",
   "execution_count": 11,
   "metadata": {},
   "outputs": [],
   "source": [
    "#df_grp=pd.read_csv('/Users/sri.t/Desktop/nsas_logs_grp.csv',sep=',')"
   ]
  },
  {
   "cell_type": "code",
   "execution_count": 6,
   "metadata": {},
   "outputs": [
    {
     "name": "stdout",
     "output_type": "stream",
     "text": [
      "(3461595, 27)\n"
     ]
    }
   ],
   "source": [
    "print (df_all.shape)\n",
    "#print (df_grp.shape)"
   ]
  },
  {
   "cell_type": "markdown",
   "metadata": {},
   "source": [
    "### Analysis"
   ]
  },
  {
   "cell_type": "code",
   "execution_count": 8,
   "metadata": {},
   "outputs": [],
   "source": [
    "df_all['time']=pd.to_datetime(df_all['time'])"
   ]
  },
  {
   "cell_type": "code",
   "execution_count": 9,
   "metadata": {},
   "outputs": [],
   "source": [
    "df_all['date_hour']=pd.to_datetime(df_all['date_hour'])"
   ]
  },
  {
   "cell_type": "code",
   "execution_count": 17,
   "metadata": {},
   "outputs": [],
   "source": [
    "df_all['date']=pd.to_datetime(df_all['date'])"
   ]
  },
  {
   "cell_type": "code",
   "execution_count": 18,
   "metadata": {},
   "outputs": [
    {
     "data": {
      "text/html": [
       "<div>\n",
       "<style scoped>\n",
       "    .dataframe tbody tr th:only-of-type {\n",
       "        vertical-align: middle;\n",
       "    }\n",
       "\n",
       "    .dataframe tbody tr th {\n",
       "        vertical-align: top;\n",
       "    }\n",
       "\n",
       "    .dataframe thead th {\n",
       "        text-align: right;\n",
       "    }\n",
       "</style>\n",
       "<table border=\"1\" class=\"dataframe\">\n",
       "  <thead>\n",
       "    <tr style=\"text-align: right;\">\n",
       "      <th></th>\n",
       "      <th>Unnamed: 0</th>\n",
       "      <th>host</th>\n",
       "      <th>bytes</th>\n",
       "      <th>day</th>\n",
       "      <th>file_type</th>\n",
       "      <th>file_type_ext</th>\n",
       "      <th>hour</th>\n",
       "      <th>method</th>\n",
       "      <th>minute</th>\n",
       "      <th>month</th>\n",
       "      <th>response</th>\n",
       "      <th>second</th>\n",
       "      <th>time</th>\n",
       "      <th>url</th>\n",
       "      <th>year</th>\n",
       "      <th>count</th>\n",
       "      <th>count_day</th>\n",
       "      <th>date</th>\n",
       "      <th>dates_unique</th>\n",
       "      <th>diff_minutes</th>\n",
       "      <th>time-1</th>\n",
       "      <th>session_id</th>\n",
       "      <th>index_x</th>\n",
       "      <th>day_of_week</th>\n",
       "      <th>index_y</th>\n",
       "      <th>date_hour</th>\n",
       "      <th>page_grouping</th>\n",
       "    </tr>\n",
       "  </thead>\n",
       "  <tbody>\n",
       "    <tr>\n",
       "      <th>0</th>\n",
       "      <td>0</td>\n",
       "      <td>***.novo.dk</td>\n",
       "      <td>7067</td>\n",
       "      <td>11</td>\n",
       "      <td>ksc.html</td>\n",
       "      <td>html</td>\n",
       "      <td>12</td>\n",
       "      <td>GET</td>\n",
       "      <td>17</td>\n",
       "      <td>7</td>\n",
       "      <td>200</td>\n",
       "      <td>9</td>\n",
       "      <td>1995-07-11 12:17:09</td>\n",
       "      <td>/ksc.html</td>\n",
       "      <td>1995</td>\n",
       "      <td>1</td>\n",
       "      <td>1</td>\n",
       "      <td>1995-07-11</td>\n",
       "      <td>2</td>\n",
       "      <td>0.000000</td>\n",
       "      <td>NaN</td>\n",
       "      <td>1</td>\n",
       "      <td>P1</td>\n",
       "      <td>Tuesday</td>\n",
       "      <td>U1</td>\n",
       "      <td>1995-07-11 12:01:01</td>\n",
       "      <td>home page</td>\n",
       "    </tr>\n",
       "    <tr>\n",
       "      <th>1</th>\n",
       "      <td>1</td>\n",
       "      <td>***.novo.dk</td>\n",
       "      <td>5866</td>\n",
       "      <td>11</td>\n",
       "      <td>ksclogo-medium.gif</td>\n",
       "      <td>gif</td>\n",
       "      <td>12</td>\n",
       "      <td>GET</td>\n",
       "      <td>17</td>\n",
       "      <td>7</td>\n",
       "      <td>200</td>\n",
       "      <td>11</td>\n",
       "      <td>1995-07-11 12:17:11</td>\n",
       "      <td>/images/ksclogo-medium.gif</td>\n",
       "      <td>1995</td>\n",
       "      <td>2</td>\n",
       "      <td>2</td>\n",
       "      <td>1995-07-11</td>\n",
       "      <td>2</td>\n",
       "      <td>0.033333</td>\n",
       "      <td>1995-07-11 12:17:09</td>\n",
       "      <td>1</td>\n",
       "      <td>P2</td>\n",
       "      <td>Tuesday</td>\n",
       "      <td>U1</td>\n",
       "      <td>1995-07-11 12:01:01</td>\n",
       "      <td>standard image pages</td>\n",
       "    </tr>\n",
       "    <tr>\n",
       "      <th>2</th>\n",
       "      <td>2</td>\n",
       "      <td>***.novo.dk</td>\n",
       "      <td>363</td>\n",
       "      <td>11</td>\n",
       "      <td>MOSAIC-logosmall.gif</td>\n",
       "      <td>gif</td>\n",
       "      <td>12</td>\n",
       "      <td>GET</td>\n",
       "      <td>17</td>\n",
       "      <td>7</td>\n",
       "      <td>200</td>\n",
       "      <td>31</td>\n",
       "      <td>1995-07-11 12:17:31</td>\n",
       "      <td>/images/MOSAIC-logosmall.gif</td>\n",
       "      <td>1995</td>\n",
       "      <td>3</td>\n",
       "      <td>3</td>\n",
       "      <td>1995-07-11</td>\n",
       "      <td>2</td>\n",
       "      <td>0.333333</td>\n",
       "      <td>1995-07-11 12:17:11</td>\n",
       "      <td>1</td>\n",
       "      <td>P3</td>\n",
       "      <td>Tuesday</td>\n",
       "      <td>U1</td>\n",
       "      <td>1995-07-11 12:01:01</td>\n",
       "      <td>standard image pages</td>\n",
       "    </tr>\n",
       "    <tr>\n",
       "      <th>3</th>\n",
       "      <td>3</td>\n",
       "      <td>***.novo.dk</td>\n",
       "      <td>234</td>\n",
       "      <td>11</td>\n",
       "      <td>USA-logosmall.gif</td>\n",
       "      <td>gif</td>\n",
       "      <td>12</td>\n",
       "      <td>GET</td>\n",
       "      <td>17</td>\n",
       "      <td>7</td>\n",
       "      <td>200</td>\n",
       "      <td>33</td>\n",
       "      <td>1995-07-11 12:17:33</td>\n",
       "      <td>/images/USA-logosmall.gif</td>\n",
       "      <td>1995</td>\n",
       "      <td>4</td>\n",
       "      <td>4</td>\n",
       "      <td>1995-07-11</td>\n",
       "      <td>2</td>\n",
       "      <td>0.033333</td>\n",
       "      <td>1995-07-11 12:17:31</td>\n",
       "      <td>1</td>\n",
       "      <td>P4</td>\n",
       "      <td>Tuesday</td>\n",
       "      <td>U1</td>\n",
       "      <td>1995-07-11 12:01:01</td>\n",
       "      <td>standard image pages</td>\n",
       "    </tr>\n",
       "    <tr>\n",
       "      <th>4</th>\n",
       "      <td>4</td>\n",
       "      <td>***.novo.dk</td>\n",
       "      <td>786</td>\n",
       "      <td>11</td>\n",
       "      <td>NASA-logosmall.gif</td>\n",
       "      <td>gif</td>\n",
       "      <td>12</td>\n",
       "      <td>GET</td>\n",
       "      <td>17</td>\n",
       "      <td>7</td>\n",
       "      <td>200</td>\n",
       "      <td>34</td>\n",
       "      <td>1995-07-11 12:17:34</td>\n",
       "      <td>/images/NASA-logosmall.gif</td>\n",
       "      <td>1995</td>\n",
       "      <td>5</td>\n",
       "      <td>5</td>\n",
       "      <td>1995-07-11</td>\n",
       "      <td>2</td>\n",
       "      <td>0.016667</td>\n",
       "      <td>1995-07-11 12:17:33</td>\n",
       "      <td>1</td>\n",
       "      <td>P5</td>\n",
       "      <td>Tuesday</td>\n",
       "      <td>U1</td>\n",
       "      <td>1995-07-11 12:01:01</td>\n",
       "      <td>standard image pages</td>\n",
       "    </tr>\n",
       "  </tbody>\n",
       "</table>\n",
       "</div>"
      ],
      "text/plain": [
       "   Unnamed: 0         host  bytes  day             file_type file_type_ext  \\\n",
       "0           0  ***.novo.dk   7067   11              ksc.html          html   \n",
       "1           1  ***.novo.dk   5866   11    ksclogo-medium.gif           gif   \n",
       "2           2  ***.novo.dk    363   11  MOSAIC-logosmall.gif           gif   \n",
       "3           3  ***.novo.dk    234   11     USA-logosmall.gif           gif   \n",
       "4           4  ***.novo.dk    786   11    NASA-logosmall.gif           gif   \n",
       "\n",
       "   hour method  minute  month  response  second                time  \\\n",
       "0    12    GET      17      7       200       9 1995-07-11 12:17:09   \n",
       "1    12    GET      17      7       200      11 1995-07-11 12:17:11   \n",
       "2    12    GET      17      7       200      31 1995-07-11 12:17:31   \n",
       "3    12    GET      17      7       200      33 1995-07-11 12:17:33   \n",
       "4    12    GET      17      7       200      34 1995-07-11 12:17:34   \n",
       "\n",
       "                            url  year  count  count_day       date  \\\n",
       "0                     /ksc.html  1995      1          1 1995-07-11   \n",
       "1    /images/ksclogo-medium.gif  1995      2          2 1995-07-11   \n",
       "2  /images/MOSAIC-logosmall.gif  1995      3          3 1995-07-11   \n",
       "3     /images/USA-logosmall.gif  1995      4          4 1995-07-11   \n",
       "4    /images/NASA-logosmall.gif  1995      5          5 1995-07-11   \n",
       "\n",
       "   dates_unique  diff_minutes               time-1  session_id index_x  \\\n",
       "0             2      0.000000                  NaN           1      P1   \n",
       "1             2      0.033333  1995-07-11 12:17:09           1      P2   \n",
       "2             2      0.333333  1995-07-11 12:17:11           1      P3   \n",
       "3             2      0.033333  1995-07-11 12:17:31           1      P4   \n",
       "4             2      0.016667  1995-07-11 12:17:33           1      P5   \n",
       "\n",
       "  day_of_week index_y           date_hour         page_grouping  \n",
       "0     Tuesday      U1 1995-07-11 12:01:01             home page  \n",
       "1     Tuesday      U1 1995-07-11 12:01:01  standard image pages  \n",
       "2     Tuesday      U1 1995-07-11 12:01:01  standard image pages  \n",
       "3     Tuesday      U1 1995-07-11 12:01:01  standard image pages  \n",
       "4     Tuesday      U1 1995-07-11 12:01:01  standard image pages  "
      ]
     },
     "execution_count": 18,
     "metadata": {},
     "output_type": "execute_result"
    }
   ],
   "source": [
    "df_all.head()"
   ]
  },
  {
   "cell_type": "code",
   "execution_count": 20,
   "metadata": {},
   "outputs": [],
   "source": [
    "#df_all.dtypes"
   ]
  },
  {
   "cell_type": "code",
   "execution_count": 521,
   "metadata": {},
   "outputs": [],
   "source": [
    "#top 10 repeat users\n",
    "#top 10 pages among repeat users vs overall\n",
    "#total percentage of repeat users\n",
    "#total percentage of single users\n",
    "#time series of everyday distinct users\n",
    "#days of the week load is highest\n",
    "#number of new users time series\n",
    "#most popular type of content\n",
    "\n",
    "#Exercise: Top Ten Error Paths\n",
    "#top ten successful paths\n",
    "#number of request per seconds,minutes,hours\n",
    "#Acess log rate requests per second * bytes per requests\n",
    "#\n",
    "\n",
    "#session stats\n",
    "#Avg session time/median session time\n",
    "#mediam/avg pages per sessions\n",
    "#median/avg responses per sessions\n",
    "#avg median bytes per sessions\n",
    "#users with maximum session\n",
    "\n",
    "#time series modeling of user load\n",
    "#modeling which users might comeback\n",
    "#recommendation engine\n",
    "#sequence modeling\n",
    "\n",
    "#index user and page\n",
    "#need url/pages higher level grouping or properties\n",
    "#\n",
    "\n",
    "## Assumption each page is unique \n",
    "## proper start to finish of session, with defined start and end\n",
    "##"
   ]
  },
  {
   "cell_type": "code",
   "execution_count": 19,
   "metadata": {},
   "outputs": [
    {
     "data": {
      "text/html": [
       "<div>\n",
       "<style scoped>\n",
       "    .dataframe tbody tr th:only-of-type {\n",
       "        vertical-align: middle;\n",
       "    }\n",
       "\n",
       "    .dataframe tbody tr th {\n",
       "        vertical-align: top;\n",
       "    }\n",
       "\n",
       "    .dataframe thead th {\n",
       "        text-align: right;\n",
       "    }\n",
       "</style>\n",
       "<table border=\"1\" class=\"dataframe\">\n",
       "  <thead>\n",
       "    <tr style=\"text-align: right;\">\n",
       "      <th>response</th>\n",
       "      <th>200</th>\n",
       "      <th>302</th>\n",
       "      <th>304</th>\n",
       "      <th>403</th>\n",
       "      <th>404</th>\n",
       "      <th>500</th>\n",
       "      <th>501</th>\n",
       "      <th>All</th>\n",
       "    </tr>\n",
       "    <tr>\n",
       "      <th>method</th>\n",
       "      <th></th>\n",
       "      <th></th>\n",
       "      <th></th>\n",
       "      <th></th>\n",
       "      <th></th>\n",
       "      <th></th>\n",
       "      <th></th>\n",
       "      <th></th>\n",
       "    </tr>\n",
       "  </thead>\n",
       "  <tbody>\n",
       "    <tr>\n",
       "      <th>GET</th>\n",
       "      <td>3092452</td>\n",
       "      <td>73059</td>\n",
       "      <td>266773</td>\n",
       "      <td>225</td>\n",
       "      <td>20882</td>\n",
       "      <td>65</td>\n",
       "      <td>0</td>\n",
       "      <td>3453456</td>\n",
       "    </tr>\n",
       "    <tr>\n",
       "      <th>HEAD</th>\n",
       "      <td>7900</td>\n",
       "      <td>11</td>\n",
       "      <td>0</td>\n",
       "      <td>0</td>\n",
       "      <td>6</td>\n",
       "      <td>0</td>\n",
       "      <td>0</td>\n",
       "      <td>7917</td>\n",
       "    </tr>\n",
       "    <tr>\n",
       "      <th>POST</th>\n",
       "      <td>169</td>\n",
       "      <td>0</td>\n",
       "      <td>0</td>\n",
       "      <td>0</td>\n",
       "      <td>12</td>\n",
       "      <td>0</td>\n",
       "      <td>41</td>\n",
       "      <td>222</td>\n",
       "    </tr>\n",
       "    <tr>\n",
       "      <th>All</th>\n",
       "      <td>3100521</td>\n",
       "      <td>73070</td>\n",
       "      <td>266773</td>\n",
       "      <td>225</td>\n",
       "      <td>20900</td>\n",
       "      <td>65</td>\n",
       "      <td>41</td>\n",
       "      <td>3461595</td>\n",
       "    </tr>\n",
       "  </tbody>\n",
       "</table>\n",
       "</div>"
      ],
      "text/plain": [
       "response      200    302     304  403    404  500  501      All\n",
       "method                                                         \n",
       "GET       3092452  73059  266773  225  20882   65    0  3453456\n",
       "HEAD         7900     11       0    0      6    0    0     7917\n",
       "POST          169      0       0    0     12    0   41      222\n",
       "All       3100521  73070  266773  225  20900   65   41  3461595"
      ]
     },
     "execution_count": 19,
     "metadata": {},
     "output_type": "execute_result"
    }
   ],
   "source": [
    "pd.crosstab(df_all['method'],df_all['response'],margins=True)"
   ]
  },
  {
   "cell_type": "code",
   "execution_count": 514,
   "metadata": {},
   "outputs": [
    {
     "data": {
      "text/plain": [
       "137978"
      ]
     },
     "execution_count": 514,
     "metadata": {},
     "output_type": "execute_result"
    }
   ],
   "source": [
    "#total unique hosts/users\n",
    "len(df_all['host'].unique())"
   ]
  },
  {
   "cell_type": "code",
   "execution_count": 515,
   "metadata": {},
   "outputs": [
    {
     "data": {
      "text/plain": [
       "31065"
      ]
     },
     "execution_count": 515,
     "metadata": {},
     "output_type": "execute_result"
    }
   ],
   "source": [
    "#total number of unique pages\n",
    "len(df_all['url'].unique())"
   ]
  },
  {
   "cell_type": "code",
   "execution_count": 516,
   "metadata": {},
   "outputs": [
    {
     "data": {
      "text/plain": [
       "39043"
      ]
     },
     "execution_count": 516,
     "metadata": {},
     "output_type": "execute_result"
    }
   ],
   "source": [
    "#unique number of users with multiple sessions\n",
    "len(df_all[df_all['session_id']>1]['host'].unique())"
   ]
  },
  {
   "cell_type": "code",
   "execution_count": 522,
   "metadata": {},
   "outputs": [
    {
     "data": {
      "text/plain": [
       "38589"
      ]
     },
     "execution_count": 522,
     "metadata": {},
     "output_type": "execute_result"
    }
   ],
   "source": [
    "#Unique count of repeat users\n",
    "len(df_all[df_all['dates_unique']>1]['host'].unique())"
   ]
  },
  {
   "cell_type": "code",
   "execution_count": 161,
   "metadata": {},
   "outputs": [],
   "source": [
    "#popular pages among repeat users\n",
    "x1=df_all[df_all['dates_unique']>1]['url'].value_counts()\n",
    "#popular pages among all users\n",
    "x2=df_all['url'].value_counts()"
   ]
  },
  {
   "cell_type": "code",
   "execution_count": 176,
   "metadata": {},
   "outputs": [
    {
     "name": "stdout",
     "output_type": "stream",
     "text": [
      "/images/NASA-logosmall.gif      150698\n",
      "/images/KSC-logosmall.gif       106058\n",
      "/images/MOSAIC-logosmall.gif     94307\n",
      "/images/USA-logosmall.gif        93823\n",
      "/images/WORLD-logosmall.gif      92942\n",
      "Name: url, dtype: int64\n",
      "\n",
      "/images/NASA-logosmall.gif                             208798\n",
      "/images/KSC-logosmall.gif                              164976\n",
      "/images/MOSAIC-logosmall.gif                           127916\n",
      "/images/USA-logosmall.gif                              127082\n",
      "/images/WORLD-logosmall.gif                            125933\n",
      "/images/ksclogo-medium.gif                             121580\n",
      "/ksc.html                                               83918\n",
      "/images/launch-logo.gif                                 76009\n",
      "/history/apollo/images/apollo-logo1.gif                 68898\n",
      "/shuttle/countdown/                                     64740\n",
      "/                                                       63256\n",
      "/images/ksclogosmall.gif                                61395\n",
      "/shuttle/missions/missions.html                         47318\n",
      "/images/launchmedium.gif                                40689\n",
      "/htbin/cdt_main.pl                                      39873\n",
      "/shuttle/missions/sts-69/mission-sts-69.html            31574\n",
      "/shuttle/countdown/liftoff.html                         29865\n",
      "/icons/menu.xbm                                         29190\n",
      "/shuttle/missions/sts-69/sts-69-patch-small.gif         29119\n",
      "/icons/blank.xbm                                        28852\n",
      "/history/apollo/images/footprint-logo.gif               26301\n",
      "/shuttle/missions/sts-71/sts-71-patch-small.gif         25466\n",
      "/shuttle/missions/sts-69/count69.gif                    24383\n",
      "/history/apollo/apollo.html                             23457\n",
      "/history/apollo/images/footprint-small.gif              23150\n",
      "/shuttle/missions/sts-70/sts-70-patch-small.gif         22950\n",
      "/icons/image.xbm                                        22456\n",
      "/shuttle/countdown/count.gif                            22237\n",
      "/history/history.html                                   21952\n",
      "/shuttle/countdown/count70.gif                          21417\n",
      "/htbin/cdt_clock.pl                                     21150\n",
      "/history/apollo/apollo-13/apollo-13.html                20945\n",
      "/shuttle/missions/sts-70/mission-sts-70.html            20189\n",
      "/shuttle/missions/sts-71/mission-sts-71.html            19847\n",
      "/history/apollo/images/apollo-small.gif                 19534\n",
      "/history/apollo/apollo-13/apollo-13-patch-small.gif     19323\n",
      "/shuttle/missions/sts-71/images/images.html             18842\n",
      "/software/winvn/winvn.html                              17315\n",
      "/shuttle/countdown/video/livevideo2.gif                 16856\n",
      "/shuttle/resources/orbiters/orbiters-logo.gif           15934\n",
      "/shuttle/countdown/images/countclock.gif                15347\n",
      "/software/winvn/winvn.gif                               15133\n",
      "/icons/text.xbm                                         15106\n",
      "/software/winvn/wvsmall.gif                             14533\n",
      "/software/winvn/bluemarb.gif                            14424\n",
      "/images/shuttle-patch-logo.gif                          14298\n",
      "/shuttle/technology/sts-newsref/stsref-toc.html         13938\n",
      "/images/kscmap-tiny.gif                                 13535\n",
      "/history/apollo/images/apollo-logo.gif                  12733\n",
      "/images/construct.gif                                   12140\n",
      "Name: url, dtype: int64\n"
     ]
    }
   ],
   "source": [
    "print (x1.head())\n",
    "print ()\n",
    "print (x2.head(50))"
   ]
  },
  {
   "cell_type": "code",
   "execution_count": 165,
   "metadata": {},
   "outputs": [],
   "source": [
    "#Pages with highest unique users all\n",
    "xx=df_all.groupby('url').host.nunique().reset_index().sort_values(by='host',ascending=False)\n",
    "#Pages with highest unique users among repeat users \n",
    "yy=df_all[df_all['dates_unique']>1].groupby('url').host.nunique().reset_index().sort_values(by='host',ascending=False)"
   ]
  },
  {
   "cell_type": "code",
   "execution_count": 22,
   "metadata": {},
   "outputs": [
    {
     "data": {
      "text/plain": [
       "0.2797"
      ]
     },
     "execution_count": 22,
     "metadata": {},
     "output_type": "execute_result"
    }
   ],
   "source": [
    "38589/137978"
   ]
  },
  {
   "cell_type": "code",
   "execution_count": 174,
   "metadata": {},
   "outputs": [
    {
     "name": "stdout",
     "output_type": "stream",
     "text": [
      "                                           url   host\n",
      "24415                /images/KSC-logosmall.gif  85161\n",
      "24430               /images/NASA-logosmall.gif  81518\n",
      "24421             /images/MOSAIC-logosmall.gif  54904\n",
      "24447                /images/USA-logosmall.gif  54498\n",
      "24449              /images/WORLD-logosmall.gif  54054\n",
      "24605               /images/ksclogo-medium.gif  49491\n",
      "24626                  /images/launch-logo.gif  42558\n",
      "24613                 /images/ksclogosmall.gif  38842\n",
      "19233  /history/apollo/images/apollo-logo1.gif  38406\n",
      "26481                      /shuttle/countdown/  36898\n",
      "\n",
      "                                url   host\n",
      "19601     /images/KSC-logosmall.gif  30953\n",
      "19614    /images/NASA-logosmall.gif  30767\n",
      "19607  /images/MOSAIC-logosmall.gif  23413\n",
      "19630     /images/USA-logosmall.gif  23304\n",
      "19632   /images/WORLD-logosmall.gif  23151\n"
     ]
    }
   ],
   "source": [
    "print (xx.head(10))\n",
    "print ()\n",
    "print (yy.head())"
   ]
  },
  {
   "cell_type": "code",
   "execution_count": 170,
   "metadata": {},
   "outputs": [],
   "source": [
    "#top 10 error paths\n",
    "x3=df_all[df_all['response'].isin([404])]['url'].value_counts()\n",
    "x4=df_all[df_all['response'].isin([403])]['url'].value_counts()\n",
    "x5=df_all[df_all['response'].isin([500])]['url'].value_counts()\n",
    "x6=df_all[df_all['response'].isin([501])]['url'].value_counts()"
   ]
  },
  {
   "cell_type": "code",
   "execution_count": 172,
   "metadata": {},
   "outputs": [
    {
     "name": "stdout",
     "output_type": "stream",
     "text": [
      "Top 5 Not found pages\n",
      "/pub/winvn/readme.txt                           2004\n",
      "/pub/winvn/release.txt                          1732\n",
      "/shuttle/missions/STS-69/mission-STS-69.html     683\n",
      "/shuttle/missions/sts-68/ksc-upclose.gif         428\n",
      "/history/apollo/a-001/a-001-patch-small.gif      384\n",
      "Name: url, dtype: int64\n",
      "\n",
      "Top 5 Forbidden pages\n",
      "/software/winvn/winvn.html/bluemarb.gif    35\n",
      "/software/winvn/winvn.html/winvn.gif       35\n",
      "/software/winvn/winvn.html/wvsmall.gif     35\n",
      "/ksc.html/images/ksclogo-medium.gif        12\n",
      "/ksc.html/images/MOSAIC-logosmall.gif      10\n",
      "Name: url, dtype: int64\n",
      "\n",
      "Top 5 internal server error pages\n",
      "/cgi-bin/geturlstats.pl                                                                                                                                                     53\n",
      "/Harvest/cgi-bin/BrokerQuery.pl.cgi?query=oms&host=titan04.ksc.nasa.gov%3A8501&caseflag=on&wordflag=on&errorflag=0&opaqueflag=on&descflag=on&verbose=on&maxresultflag=50     4\n",
      "/cgi-bin/BrokerQuery.pl?query=oms&host=titan04.ksc.nasa.gov%3A8501&caseflag=on&wordflag=on&errorflag=0&opaqueflag=on&descflag=on&verbose=on&maxresultflag=50                 3\n",
      "/history/apollo/./                                                                                                                                                           2\n",
      "/cgi-bin/BrokerQuery.pl?query=oms%04%06%06&host=titan04.ksc.nasa.gov%3A8501&caseflag=on&wordflag=on&errorflag=0&opaqueflag=on&descflag=on&verbose=on&maxresultflag=50        1\n",
      "Name: url, dtype: int64\n",
      "\n",
      "Top 5 not implemented pages\n",
      "/ksc.html                                          18\n",
      "/images/launchmedium.gif                            6\n",
      "/images/getstats.gif                                5\n",
      "/shuttle/missions/sts-45/sts-45-patch-small.gif     2\n",
      "/shuttle/missions/51-i/51-i-patch-small.gif         2\n",
      "Name: url, dtype: int64\n",
      "\n"
     ]
    }
   ],
   "source": [
    "print (\"Top 5 Not found pages\")\n",
    "print(x3.head())\n",
    "print ()\n",
    "print (\"Top 5 Forbidden pages\")\n",
    "print(x4.head())\n",
    "print ()\n",
    "print (\"Top 5 internal server error pages\")\n",
    "print(x5.head())\n",
    "print ()\n",
    "print (\"Top 5 not implemented pages\")\n",
    "print(x6.head())\n",
    "print ()"
   ]
  },
  {
   "cell_type": "markdown",
   "metadata": {},
   "source": [
    "#### Creating various time series to understand patterns"
   ]
  },
  {
   "cell_type": "code",
   "execution_count": 43,
   "metadata": {},
   "outputs": [
    {
     "data": {
      "text/html": [
       "<div>\n",
       "<style scoped>\n",
       "    .dataframe tbody tr th:only-of-type {\n",
       "        vertical-align: middle;\n",
       "    }\n",
       "\n",
       "    .dataframe tbody tr th {\n",
       "        vertical-align: top;\n",
       "    }\n",
       "\n",
       "    .dataframe thead th {\n",
       "        text-align: right;\n",
       "    }\n",
       "</style>\n",
       "<table border=\"1\" class=\"dataframe\">\n",
       "  <thead>\n",
       "    <tr style=\"text-align: right;\">\n",
       "      <th></th>\n",
       "      <th>bytes</th>\n",
       "      <th>day</th>\n",
       "      <th>hour</th>\n",
       "      <th>minute</th>\n",
       "      <th>month</th>\n",
       "      <th>response</th>\n",
       "      <th>second</th>\n",
       "      <th>year</th>\n",
       "      <th>count</th>\n",
       "      <th>count_day</th>\n",
       "      <th>dates_unique</th>\n",
       "      <th>diff_minutes</th>\n",
       "      <th>session_id</th>\n",
       "    </tr>\n",
       "  </thead>\n",
       "  <tbody>\n",
       "    <tr>\n",
       "      <th>count</th>\n",
       "      <td>3,461,595.00</td>\n",
       "      <td>3,461,595.00</td>\n",
       "      <td>3,461,595.00</td>\n",
       "      <td>3,461,595.00</td>\n",
       "      <td>3,461,595.00</td>\n",
       "      <td>3,461,595.00</td>\n",
       "      <td>3,461,595.00</td>\n",
       "      <td>3,461,595.00</td>\n",
       "      <td>3,461,595.00</td>\n",
       "      <td>3,461,595.00</td>\n",
       "      <td>3,461,595.00</td>\n",
       "      <td>3,461,595.00</td>\n",
       "      <td>3,461,595.00</td>\n",
       "    </tr>\n",
       "    <tr>\n",
       "      <th>mean</th>\n",
       "      <td>18,928.94</td>\n",
       "      <td>15.25</td>\n",
       "      <td>13.17</td>\n",
       "      <td>29.58</td>\n",
       "      <td>7.46</td>\n",
       "      <td>211.42</td>\n",
       "      <td>29.50</td>\n",
       "      <td>1,995.00</td>\n",
       "      <td>467.35</td>\n",
       "      <td>36.84</td>\n",
       "      <td>11.21</td>\n",
       "      <td>27.67</td>\n",
       "      <td>15.29</td>\n",
       "    </tr>\n",
       "    <tr>\n",
       "      <th>std</th>\n",
       "      <td>73,031.64</td>\n",
       "      <td>8.46</td>\n",
       "      <td>6.82</td>\n",
       "      <td>17.31</td>\n",
       "      <td>0.50</td>\n",
       "      <td>34.34</td>\n",
       "      <td>17.33</td>\n",
       "      <td>0.00</td>\n",
       "      <td>1,623.14</td>\n",
       "      <td>92.52</td>\n",
       "      <td>16.19</td>\n",
       "      <td>162.13</td>\n",
       "      <td>41.08</td>\n",
       "    </tr>\n",
       "    <tr>\n",
       "      <th>min</th>\n",
       "      <td>0.00</td>\n",
       "      <td>1.00</td>\n",
       "      <td>0.00</td>\n",
       "      <td>0.00</td>\n",
       "      <td>7.00</td>\n",
       "      <td>200.00</td>\n",
       "      <td>0.00</td>\n",
       "      <td>1,995.00</td>\n",
       "      <td>1.00</td>\n",
       "      <td>1.00</td>\n",
       "      <td>1.00</td>\n",
       "      <td>0.00</td>\n",
       "      <td>1.00</td>\n",
       "    </tr>\n",
       "    <tr>\n",
       "      <th>25%</th>\n",
       "      <td>669.00</td>\n",
       "      <td>8.00</td>\n",
       "      <td>8.00</td>\n",
       "      <td>15.00</td>\n",
       "      <td>7.00</td>\n",
       "      <td>200.00</td>\n",
       "      <td>14.00</td>\n",
       "      <td>1,995.00</td>\n",
       "      <td>8.00</td>\n",
       "      <td>5.00</td>\n",
       "      <td>1.00</td>\n",
       "      <td>0.02</td>\n",
       "      <td>1.00</td>\n",
       "    </tr>\n",
       "    <tr>\n",
       "      <th>50%</th>\n",
       "      <td>3,584.00</td>\n",
       "      <td>14.00</td>\n",
       "      <td>15.00</td>\n",
       "      <td>30.00</td>\n",
       "      <td>7.00</td>\n",
       "      <td>200.00</td>\n",
       "      <td>30.00</td>\n",
       "      <td>1,995.00</td>\n",
       "      <td>26.00</td>\n",
       "      <td>11.00</td>\n",
       "      <td>3.00</td>\n",
       "      <td>0.08</td>\n",
       "      <td>2.00</td>\n",
       "    </tr>\n",
       "    <tr>\n",
       "      <th>75%</th>\n",
       "      <td>10,371.00</td>\n",
       "      <td>22.00</td>\n",
       "      <td>19.00</td>\n",
       "      <td>45.00</td>\n",
       "      <td>8.00</td>\n",
       "      <td>200.00</td>\n",
       "      <td>45.00</td>\n",
       "      <td>1,995.00</td>\n",
       "      <td>125.00</td>\n",
       "      <td>28.00</td>\n",
       "      <td>13.00</td>\n",
       "      <td>0.52</td>\n",
       "      <td>7.00</td>\n",
       "    </tr>\n",
       "    <tr>\n",
       "      <th>max</th>\n",
       "      <td>6,823,936.00</td>\n",
       "      <td>31.00</td>\n",
       "      <td>23.00</td>\n",
       "      <td>59.00</td>\n",
       "      <td>9.00</td>\n",
       "      <td>501.00</td>\n",
       "      <td>59.00</td>\n",
       "      <td>1,995.00</td>\n",
       "      <td>21,988.00</td>\n",
       "      <td>1,704.00</td>\n",
       "      <td>58.00</td>\n",
       "      <td>1,439.98</td>\n",
       "      <td>370.00</td>\n",
       "    </tr>\n",
       "  </tbody>\n",
       "</table>\n",
       "</div>"
      ],
      "text/plain": [
       "             bytes          day         hour       minute        month  \\\n",
       "count 3,461,595.00 3,461,595.00 3,461,595.00 3,461,595.00 3,461,595.00   \n",
       "mean     18,928.94        15.25        13.17        29.58         7.46   \n",
       "std      73,031.64         8.46         6.82        17.31         0.50   \n",
       "min           0.00         1.00         0.00         0.00         7.00   \n",
       "25%         669.00         8.00         8.00        15.00         7.00   \n",
       "50%       3,584.00        14.00        15.00        30.00         7.00   \n",
       "75%      10,371.00        22.00        19.00        45.00         8.00   \n",
       "max   6,823,936.00        31.00        23.00        59.00         9.00   \n",
       "\n",
       "          response       second         year        count    count_day  \\\n",
       "count 3,461,595.00 3,461,595.00 3,461,595.00 3,461,595.00 3,461,595.00   \n",
       "mean        211.42        29.50     1,995.00       467.35        36.84   \n",
       "std          34.34        17.33         0.00     1,623.14        92.52   \n",
       "min         200.00         0.00     1,995.00         1.00         1.00   \n",
       "25%         200.00        14.00     1,995.00         8.00         5.00   \n",
       "50%         200.00        30.00     1,995.00        26.00        11.00   \n",
       "75%         200.00        45.00     1,995.00       125.00        28.00   \n",
       "max         501.00        59.00     1,995.00    21,988.00     1,704.00   \n",
       "\n",
       "       dates_unique  diff_minutes   session_id  \n",
       "count  3,461,595.00  3,461,595.00 3,461,595.00  \n",
       "mean          11.21         27.67        15.29  \n",
       "std           16.19        162.13        41.08  \n",
       "min            1.00          0.00         1.00  \n",
       "25%            1.00          0.02         1.00  \n",
       "50%            3.00          0.08         2.00  \n",
       "75%           13.00          0.52         7.00  \n",
       "max           58.00      1,439.98       370.00  "
      ]
     },
     "execution_count": 43,
     "metadata": {},
     "output_type": "execute_result"
    }
   ],
   "source": [
    "pd.options.display.float_format = '{:,.2f}'.format\n",
    "df_all.describe()"
   ]
  },
  {
   "cell_type": "code",
   "execution_count": 130,
   "metadata": {},
   "outputs": [],
   "source": [
    "ts=df_all.groupby(['date_hour']).agg({'host':['count','nunique'],'bytes':'sum','url':['count','nunique']}).reset_index()"
   ]
  },
  {
   "cell_type": "code",
   "execution_count": 131,
   "metadata": {},
   "outputs": [],
   "source": [
    "ts.columns=['date_hour','no_of_requests','no_of_users','data_size_bytes','total_pages','unique_pages']"
   ]
  },
  {
   "cell_type": "code",
   "execution_count": 132,
   "metadata": {},
   "outputs": [],
   "source": [
    "ts['data_size_MB']=ts['data_size_bytes']/1024.0"
   ]
  },
  {
   "cell_type": "code",
   "execution_count": 133,
   "metadata": {},
   "outputs": [],
   "source": [
    "ts['data_rate']=ts['data_size_MB']/3600.0"
   ]
  },
  {
   "cell_type": "code",
   "execution_count": 134,
   "metadata": {},
   "outputs": [],
   "source": [
    "ts['hour']=[x.hour for x in ts['date_hour']]\n",
    "ts['day_of_week']=ts['date_hour'].dt.weekday_name "
   ]
  },
  {
   "cell_type": "code",
   "execution_count": 135,
   "metadata": {},
   "outputs": [],
   "source": [
    "ts=ts.sort_values(by=['date_hour'],ascending=True)"
   ]
  },
  {
   "cell_type": "code",
   "execution_count": 136,
   "metadata": {},
   "outputs": [
    {
     "data": {
      "text/html": [
       "<div>\n",
       "<style scoped>\n",
       "    .dataframe tbody tr th:only-of-type {\n",
       "        vertical-align: middle;\n",
       "    }\n",
       "\n",
       "    .dataframe tbody tr th {\n",
       "        vertical-align: top;\n",
       "    }\n",
       "\n",
       "    .dataframe thead th {\n",
       "        text-align: right;\n",
       "    }\n",
       "</style>\n",
       "<table border=\"1\" class=\"dataframe\">\n",
       "  <thead>\n",
       "    <tr style=\"text-align: right;\">\n",
       "      <th></th>\n",
       "      <th>date_hour</th>\n",
       "      <th>no_of_requests</th>\n",
       "      <th>no_of_users</th>\n",
       "      <th>data_size_bytes</th>\n",
       "      <th>total_pages</th>\n",
       "      <th>unique_pages</th>\n",
       "      <th>data_size_MB</th>\n",
       "      <th>data_rate</th>\n",
       "      <th>hour</th>\n",
       "      <th>day_of_week</th>\n",
       "    </tr>\n",
       "  </thead>\n",
       "  <tbody>\n",
       "    <tr>\n",
       "      <th>0</th>\n",
       "      <td>1995-07-01 04:01:01</td>\n",
       "      <td>3565</td>\n",
       "      <td>378</td>\n",
       "      <td>80985486</td>\n",
       "      <td>3565</td>\n",
       "      <td>652</td>\n",
       "      <td>79,087.39</td>\n",
       "      <td>21.97</td>\n",
       "      <td>4</td>\n",
       "      <td>Saturday</td>\n",
       "    </tr>\n",
       "    <tr>\n",
       "      <th>1</th>\n",
       "      <td>1995-07-01 05:01:01</td>\n",
       "      <td>3004</td>\n",
       "      <td>329</td>\n",
       "      <td>81572855</td>\n",
       "      <td>3004</td>\n",
       "      <td>539</td>\n",
       "      <td>79,660.99</td>\n",
       "      <td>22.13</td>\n",
       "      <td>5</td>\n",
       "      <td>Saturday</td>\n",
       "    </tr>\n",
       "    <tr>\n",
       "      <th>2</th>\n",
       "      <td>1995-07-01 06:01:01</td>\n",
       "      <td>2268</td>\n",
       "      <td>263</td>\n",
       "      <td>57160621</td>\n",
       "      <td>2268</td>\n",
       "      <td>501</td>\n",
       "      <td>55,820.92</td>\n",
       "      <td>15.51</td>\n",
       "      <td>6</td>\n",
       "      <td>Saturday</td>\n",
       "    </tr>\n",
       "    <tr>\n",
       "      <th>3</th>\n",
       "      <td>1995-07-01 07:01:01</td>\n",
       "      <td>1734</td>\n",
       "      <td>194</td>\n",
       "      <td>37293218</td>\n",
       "      <td>1734</td>\n",
       "      <td>471</td>\n",
       "      <td>36,419.16</td>\n",
       "      <td>10.12</td>\n",
       "      <td>7</td>\n",
       "      <td>Saturday</td>\n",
       "    </tr>\n",
       "    <tr>\n",
       "      <th>4</th>\n",
       "      <td>1995-07-01 08:01:01</td>\n",
       "      <td>1482</td>\n",
       "      <td>179</td>\n",
       "      <td>29319770</td>\n",
       "      <td>1482</td>\n",
       "      <td>365</td>\n",
       "      <td>28,632.59</td>\n",
       "      <td>7.95</td>\n",
       "      <td>8</td>\n",
       "      <td>Saturday</td>\n",
       "    </tr>\n",
       "  </tbody>\n",
       "</table>\n",
       "</div>"
      ],
      "text/plain": [
       "            date_hour  no_of_requests  no_of_users  data_size_bytes  \\\n",
       "0 1995-07-01 04:01:01            3565          378         80985486   \n",
       "1 1995-07-01 05:01:01            3004          329         81572855   \n",
       "2 1995-07-01 06:01:01            2268          263         57160621   \n",
       "3 1995-07-01 07:01:01            1734          194         37293218   \n",
       "4 1995-07-01 08:01:01            1482          179         29319770   \n",
       "\n",
       "   total_pages  unique_pages  data_size_MB  data_rate  hour day_of_week  \n",
       "0         3565           652     79,087.39      21.97     4    Saturday  \n",
       "1         3004           539     79,660.99      22.13     5    Saturday  \n",
       "2         2268           501     55,820.92      15.51     6    Saturday  \n",
       "3         1734           471     36,419.16      10.12     7    Saturday  \n",
       "4         1482           365     28,632.59       7.95     8    Saturday  "
      ]
     },
     "execution_count": 136,
     "metadata": {},
     "output_type": "execute_result"
    }
   ],
   "source": [
    "ts.head()\n",
    "#18,928.94/1024 = 18.5 MB/s"
   ]
  },
  {
   "cell_type": "code",
   "execution_count": 54,
   "metadata": {},
   "outputs": [
    {
     "data": {
      "text/plain": [
       "date_hour          1995-09-01 03:01:01\n",
       "no_of_users                      14926\n",
       "data_size_bytes              210387333\n",
       "dtype: object"
      ]
     },
     "execution_count": 54,
     "metadata": {},
     "output_type": "execute_result"
    }
   ],
   "source": [
    "ts.max()"
   ]
  },
  {
   "cell_type": "code",
   "execution_count": 55,
   "metadata": {},
   "outputs": [
    {
     "data": {
      "text/html": [
       "<div>\n",
       "<style scoped>\n",
       "    .dataframe tbody tr th:only-of-type {\n",
       "        vertical-align: middle;\n",
       "    }\n",
       "\n",
       "    .dataframe tbody tr th {\n",
       "        vertical-align: top;\n",
       "    }\n",
       "\n",
       "    .dataframe thead th {\n",
       "        text-align: right;\n",
       "    }\n",
       "</style>\n",
       "<table border=\"1\" class=\"dataframe\">\n",
       "  <thead>\n",
       "    <tr style=\"text-align: right;\">\n",
       "      <th></th>\n",
       "      <th>date_hour</th>\n",
       "      <th>no_of_users</th>\n",
       "      <th>data_size_bytes</th>\n",
       "    </tr>\n",
       "  </thead>\n",
       "  <tbody>\n",
       "    <tr>\n",
       "      <th>297</th>\n",
       "      <td>1995-07-13 13:01:01</td>\n",
       "      <td>14926</td>\n",
       "      <td>197622302</td>\n",
       "    </tr>\n",
       "  </tbody>\n",
       "</table>\n",
       "</div>"
      ],
      "text/plain": [
       "              date_hour  no_of_users  data_size_bytes\n",
       "297 1995-07-13 13:01:01        14926        197622302"
      ]
     },
     "execution_count": 55,
     "metadata": {},
     "output_type": "execute_result"
    }
   ],
   "source": [
    "ts[ts['no_of_users']==14926]\n",
    "#Discovery mission top views\n",
    "#Atlantis mission landing next top views\n",
    "#launch typically happens on a Thursday\n",
    "#launch morning times 8 to 11AM (ETC) 12 - 4 pm (UTC)"
   ]
  },
  {
   "cell_type": "code",
   "execution_count": 58,
   "metadata": {},
   "outputs": [],
   "source": [
    "x=df_all[(df_all['date']==datetime(1995,7,13))]"
   ]
  },
  {
   "cell_type": "code",
   "execution_count": 59,
   "metadata": {},
   "outputs": [
    {
     "data": {
      "text/plain": [
       "(137071, 25)"
      ]
     },
     "execution_count": 59,
     "metadata": {},
     "output_type": "execute_result"
    }
   ],
   "source": [
    "x.shape"
   ]
  },
  {
   "cell_type": "code",
   "execution_count": 84,
   "metadata": {},
   "outputs": [
    {
     "data": {
      "text/html": [
       "<div>\n",
       "<style scoped>\n",
       "    .dataframe tbody tr th:only-of-type {\n",
       "        vertical-align: middle;\n",
       "    }\n",
       "\n",
       "    .dataframe tbody tr th {\n",
       "        vertical-align: top;\n",
       "    }\n",
       "\n",
       "    .dataframe thead th {\n",
       "        text-align: right;\n",
       "    }\n",
       "</style>\n",
       "<table border=\"1\" class=\"dataframe\">\n",
       "  <thead>\n",
       "    <tr style=\"text-align: right;\">\n",
       "      <th></th>\n",
       "      <th>host</th>\n",
       "      <th>bytes</th>\n",
       "      <th>day</th>\n",
       "      <th>file_type</th>\n",
       "      <th>file_type_ext</th>\n",
       "      <th>hour</th>\n",
       "      <th>method</th>\n",
       "      <th>minute</th>\n",
       "      <th>month</th>\n",
       "      <th>response</th>\n",
       "      <th>second</th>\n",
       "      <th>time</th>\n",
       "      <th>url</th>\n",
       "      <th>year</th>\n",
       "      <th>count</th>\n",
       "      <th>count_day</th>\n",
       "      <th>date</th>\n",
       "      <th>dates_unique</th>\n",
       "      <th>diff_minutes</th>\n",
       "      <th>time-1</th>\n",
       "      <th>session_id</th>\n",
       "      <th>index_x</th>\n",
       "      <th>day_of_week</th>\n",
       "      <th>index_y</th>\n",
       "      <th>date_hour</th>\n",
       "    </tr>\n",
       "  </thead>\n",
       "  <tbody>\n",
       "    <tr>\n",
       "      <th>256</th>\n",
       "      <td>1032015.ksc.nasa.gov</td>\n",
       "      <td>7062</td>\n",
       "      <td>13</td>\n",
       "      <td>ksc.html</td>\n",
       "      <td>html</td>\n",
       "      <td>22</td>\n",
       "      <td>GET</td>\n",
       "      <td>22</td>\n",
       "      <td>7</td>\n",
       "      <td>200</td>\n",
       "      <td>22</td>\n",
       "      <td>1995-07-13 22:22:22</td>\n",
       "      <td>/ksc.html</td>\n",
       "      <td>1995</td>\n",
       "      <td>72</td>\n",
       "      <td>1</td>\n",
       "      <td>1995-07-13</td>\n",
       "      <td>16</td>\n",
       "      <td>79.53</td>\n",
       "      <td>1995-07-11 21:02:50</td>\n",
       "      <td>5</td>\n",
       "      <td>P1</td>\n",
       "      <td>Thursday</td>\n",
       "      <td>U10</td>\n",
       "      <td>1995-07-13 22:01:01</td>\n",
       "    </tr>\n",
       "    <tr>\n",
       "      <th>302</th>\n",
       "      <td>1032015.ksc.nasa.gov</td>\n",
       "      <td>5866</td>\n",
       "      <td>13</td>\n",
       "      <td>ksclogo-medium.gif</td>\n",
       "      <td>gif</td>\n",
       "      <td>22</td>\n",
       "      <td>GET</td>\n",
       "      <td>22</td>\n",
       "      <td>7</td>\n",
       "      <td>200</td>\n",
       "      <td>23</td>\n",
       "      <td>1995-07-13 22:22:23</td>\n",
       "      <td>/images/ksclogo-medium.gif</td>\n",
       "      <td>1995</td>\n",
       "      <td>73</td>\n",
       "      <td>2</td>\n",
       "      <td>1995-07-13</td>\n",
       "      <td>16</td>\n",
       "      <td>0.02</td>\n",
       "      <td>1995-07-13 22:22:22</td>\n",
       "      <td>5</td>\n",
       "      <td>P2</td>\n",
       "      <td>Thursday</td>\n",
       "      <td>U10</td>\n",
       "      <td>1995-07-13 22:01:01</td>\n",
       "    </tr>\n",
       "    <tr>\n",
       "      <th>347</th>\n",
       "      <td>1032015.ksc.nasa.gov</td>\n",
       "      <td>363</td>\n",
       "      <td>13</td>\n",
       "      <td>MOSAIC-logosmall.gif</td>\n",
       "      <td>gif</td>\n",
       "      <td>22</td>\n",
       "      <td>GET</td>\n",
       "      <td>22</td>\n",
       "      <td>7</td>\n",
       "      <td>200</td>\n",
       "      <td>24</td>\n",
       "      <td>1995-07-13 22:22:24</td>\n",
       "      <td>/images/MOSAIC-logosmall.gif</td>\n",
       "      <td>1995</td>\n",
       "      <td>75</td>\n",
       "      <td>4</td>\n",
       "      <td>1995-07-13</td>\n",
       "      <td>16</td>\n",
       "      <td>0.00</td>\n",
       "      <td>1995-07-13 22:22:24</td>\n",
       "      <td>5</td>\n",
       "      <td>P3</td>\n",
       "      <td>Thursday</td>\n",
       "      <td>U10</td>\n",
       "      <td>1995-07-13 22:01:01</td>\n",
       "    </tr>\n",
       "    <tr>\n",
       "      <th>393</th>\n",
       "      <td>1032015.ksc.nasa.gov</td>\n",
       "      <td>234</td>\n",
       "      <td>13</td>\n",
       "      <td>USA-logosmall.gif</td>\n",
       "      <td>gif</td>\n",
       "      <td>22</td>\n",
       "      <td>GET</td>\n",
       "      <td>22</td>\n",
       "      <td>7</td>\n",
       "      <td>200</td>\n",
       "      <td>24</td>\n",
       "      <td>1995-07-13 22:22:24</td>\n",
       "      <td>/images/USA-logosmall.gif</td>\n",
       "      <td>1995</td>\n",
       "      <td>76</td>\n",
       "      <td>5</td>\n",
       "      <td>1995-07-13</td>\n",
       "      <td>16</td>\n",
       "      <td>0.00</td>\n",
       "      <td>1995-07-13 22:22:24</td>\n",
       "      <td>5</td>\n",
       "      <td>P4</td>\n",
       "      <td>Thursday</td>\n",
       "      <td>U10</td>\n",
       "      <td>1995-07-13 22:01:01</td>\n",
       "    </tr>\n",
       "    <tr>\n",
       "      <th>439</th>\n",
       "      <td>1032015.ksc.nasa.gov</td>\n",
       "      <td>786</td>\n",
       "      <td>13</td>\n",
       "      <td>NASA-logosmall.gif</td>\n",
       "      <td>gif</td>\n",
       "      <td>22</td>\n",
       "      <td>GET</td>\n",
       "      <td>22</td>\n",
       "      <td>7</td>\n",
       "      <td>200</td>\n",
       "      <td>24</td>\n",
       "      <td>1995-07-13 22:22:24</td>\n",
       "      <td>/images/NASA-logosmall.gif</td>\n",
       "      <td>1995</td>\n",
       "      <td>74</td>\n",
       "      <td>3</td>\n",
       "      <td>1995-07-13</td>\n",
       "      <td>16</td>\n",
       "      <td>0.02</td>\n",
       "      <td>1995-07-13 22:22:23</td>\n",
       "      <td>5</td>\n",
       "      <td>P5</td>\n",
       "      <td>Thursday</td>\n",
       "      <td>U10</td>\n",
       "      <td>1995-07-13 22:01:01</td>\n",
       "    </tr>\n",
       "  </tbody>\n",
       "</table>\n",
       "</div>"
      ],
      "text/plain": [
       "                     host  bytes  day             file_type file_type_ext  \\\n",
       "256  1032015.ksc.nasa.gov   7062   13              ksc.html          html   \n",
       "302  1032015.ksc.nasa.gov   5866   13    ksclogo-medium.gif           gif   \n",
       "347  1032015.ksc.nasa.gov    363   13  MOSAIC-logosmall.gif           gif   \n",
       "393  1032015.ksc.nasa.gov    234   13     USA-logosmall.gif           gif   \n",
       "439  1032015.ksc.nasa.gov    786   13    NASA-logosmall.gif           gif   \n",
       "\n",
       "     hour method  minute  month  response  second                time  \\\n",
       "256    22    GET      22      7       200      22 1995-07-13 22:22:22   \n",
       "302    22    GET      22      7       200      23 1995-07-13 22:22:23   \n",
       "347    22    GET      22      7       200      24 1995-07-13 22:22:24   \n",
       "393    22    GET      22      7       200      24 1995-07-13 22:22:24   \n",
       "439    22    GET      22      7       200      24 1995-07-13 22:22:24   \n",
       "\n",
       "                              url  year  count  count_day       date  \\\n",
       "256                     /ksc.html  1995     72          1 1995-07-13   \n",
       "302    /images/ksclogo-medium.gif  1995     73          2 1995-07-13   \n",
       "347  /images/MOSAIC-logosmall.gif  1995     75          4 1995-07-13   \n",
       "393     /images/USA-logosmall.gif  1995     76          5 1995-07-13   \n",
       "439    /images/NASA-logosmall.gif  1995     74          3 1995-07-13   \n",
       "\n",
       "     dates_unique  diff_minutes               time-1  session_id index_x  \\\n",
       "256            16         79.53  1995-07-11 21:02:50           5      P1   \n",
       "302            16          0.02  1995-07-13 22:22:22           5      P2   \n",
       "347            16          0.00  1995-07-13 22:22:24           5      P3   \n",
       "393            16          0.00  1995-07-13 22:22:24           5      P4   \n",
       "439            16          0.02  1995-07-13 22:22:23           5      P5   \n",
       "\n",
       "    day_of_week index_y           date_hour  \n",
       "256    Thursday     U10 1995-07-13 22:01:01  \n",
       "302    Thursday     U10 1995-07-13 22:01:01  \n",
       "347    Thursday     U10 1995-07-13 22:01:01  \n",
       "393    Thursday     U10 1995-07-13 22:01:01  \n",
       "439    Thursday     U10 1995-07-13 22:01:01  "
      ]
     },
     "execution_count": 84,
     "metadata": {},
     "output_type": "execute_result"
    }
   ],
   "source": [
    "x.head()"
   ]
  },
  {
   "cell_type": "code",
   "execution_count": 96,
   "metadata": {},
   "outputs": [
    {
     "data": {
      "text/plain": [
       "/images/NASA-logosmall.gif         12489\n",
       "/htbin/cdt_main.pl                  7285\n",
       "/htbin/cdt_clock.pl                 6634\n",
       "/images/KSC-logosmall.gif           5669\n",
       "/shuttle/countdown/liftoff.html     4949\n",
       "Name: url, dtype: int64"
      ]
     },
     "execution_count": 96,
     "metadata": {},
     "output_type": "execute_result"
    }
   ],
   "source": [
    "x['url'].value_counts().head()"
   ]
  },
  {
   "cell_type": "code",
   "execution_count": 64,
   "metadata": {},
   "outputs": [],
   "source": [
    "#data=ts[['date_hour','no_of_users']]\n",
    "#data=data.set_index('date_hour')\n",
    "#data.plot()"
   ]
  },
  {
   "cell_type": "code",
   "execution_count": 95,
   "metadata": {},
   "outputs": [
    {
     "data": {
      "image/png": "[encoded data removed]",
      "text/plain": [
       "<matplotlib.figure.Figure at 0x12d340898>"
      ]
     },
     "metadata": {},
     "output_type": "display_data"
    }
   ],
   "source": [
    "data=ts[['date_hour','no_of_requests']]\n",
    "data=data.set_index('date_hour')\n",
    "fig = plt.figure(figsize=[18,6])\n",
    "ax = fig.add_subplot(111,axisbg='#000333')\n",
    "plt.plot(data,'c--',ms=2.0,lw=2.0)\n",
    "plt.ylabel('user_load')\n",
    "plt.xlabel('date_hour')\n",
    "plt.title('User load by the hour')\n",
    "plt.grid()\n",
    "plt.show()"
   ]
  },
  {
   "cell_type": "code",
   "execution_count": 137,
   "metadata": {},
   "outputs": [
    {
     "data": {
      "image/png": "[encoded data removed]",
      "text/plain": [
       "<matplotlib.figure.Figure at 0x11363aa20>"
      ]
     },
     "metadata": {},
     "output_type": "display_data"
    }
   ],
   "source": [
    "data=ts[['date_hour','no_of_users']]\n",
    "data=data.set_index('date_hour')\n",
    "fig = plt.figure(figsize=[18,6])\n",
    "ax = fig.add_subplot(111,axisbg='#000333')\n",
    "plt.plot(data,'c--',ms=2.0,lw=2.0)\n",
    "plt.ylabel('no_of_users')\n",
    "plt.xlabel('date_hour')\n",
    "plt.title('Number of users')\n",
    "plt.grid()\n",
    "plt.show()"
   ]
  },
  {
   "cell_type": "code",
   "execution_count": 140,
   "metadata": {},
   "outputs": [],
   "source": [
    "ss1=ts.groupby('hour').agg({'no_of_requests':'mean','no_of_users':'mean'}).reset_index()"
   ]
  },
  {
   "cell_type": "code",
   "execution_count": 142,
   "metadata": {},
   "outputs": [
    {
     "data": {
      "text/html": [
       "<div>\n",
       "<style scoped>\n",
       "    .dataframe tbody tr th:only-of-type {\n",
       "        vertical-align: middle;\n",
       "    }\n",
       "\n",
       "    .dataframe tbody tr th {\n",
       "        vertical-align: top;\n",
       "    }\n",
       "\n",
       "    .dataframe thead th {\n",
       "        text-align: right;\n",
       "    }\n",
       "</style>\n",
       "<table border=\"1\" class=\"dataframe\">\n",
       "  <thead>\n",
       "    <tr style=\"text-align: right;\">\n",
       "      <th></th>\n",
       "      <th>hour</th>\n",
       "      <th>no_of_requests</th>\n",
       "      <th>no_of_users</th>\n",
       "    </tr>\n",
       "  </thead>\n",
       "  <tbody>\n",
       "    <tr>\n",
       "      <th>19</th>\n",
       "      <td>19</td>\n",
       "      <td>4,118.93</td>\n",
       "      <td>397.61</td>\n",
       "    </tr>\n",
       "    <tr>\n",
       "      <th>20</th>\n",
       "      <td>20</td>\n",
       "      <td>3,885.05</td>\n",
       "      <td>373.57</td>\n",
       "    </tr>\n",
       "    <tr>\n",
       "      <th>21</th>\n",
       "      <td>21</td>\n",
       "      <td>3,186.48</td>\n",
       "      <td>309.20</td>\n",
       "    </tr>\n",
       "    <tr>\n",
       "      <th>22</th>\n",
       "      <td>22</td>\n",
       "      <td>2,608.77</td>\n",
       "      <td>248.16</td>\n",
       "    </tr>\n",
       "    <tr>\n",
       "      <th>23</th>\n",
       "      <td>23</td>\n",
       "      <td>2,340.91</td>\n",
       "      <td>223.09</td>\n",
       "    </tr>\n",
       "  </tbody>\n",
       "</table>\n",
       "</div>"
      ],
      "text/plain": [
       "    hour  no_of_requests  no_of_users\n",
       "19    19        4,118.93       397.61\n",
       "20    20        3,885.05       373.57\n",
       "21    21        3,186.48       309.20\n",
       "22    22        2,608.77       248.16\n",
       "23    23        2,340.91       223.09"
      ]
     },
     "execution_count": 142,
     "metadata": {},
     "output_type": "execute_result"
    }
   ],
   "source": [
    "ss1.tail()"
   ]
  },
  {
   "cell_type": "code",
   "execution_count": 151,
   "metadata": {},
   "outputs": [
    {
     "data": {
      "image/png": "[encoded data removed]",
      "text/plain": [
       "<matplotlib.figure.Figure at 0x1410fdba8>"
      ]
     },
     "metadata": {},
     "output_type": "display_data"
    }
   ],
   "source": [
    "data=ss1[['hour','no_of_requests']]\n",
    "data=data.set_index('hour')\n",
    "fig = plt.figure(figsize=[18,6])\n",
    "ax = fig.add_subplot(111,axisbg='#000333')\n",
    "plt.plot(data,'c--',ms=2.0,lw=2.0)\n",
    "plt.ylabel('mean_no_of_requests')\n",
    "plt.xlabel('hour')\n",
    "plt.title('Mean no. of requests')\n",
    "plt.grid()\n",
    "plt.show()"
   ]
  },
  {
   "cell_type": "code",
   "execution_count": 152,
   "metadata": {},
   "outputs": [
    {
     "data": {
      "image/png": "[encoded data removed]",
      "text/plain": [
       "<matplotlib.figure.Figure at 0x14b1e7748>"
      ]
     },
     "metadata": {},
     "output_type": "display_data"
    }
   ],
   "source": [
    "data=ss1[['hour','no_of_users']]\n",
    "data=data.set_index('hour')\n",
    "fig = plt.figure(figsize=[18,6])\n",
    "ax = fig.add_subplot(111,axisbg='#000333')\n",
    "plt.plot(data,'c--',ms=2.0,lw=2.0)\n",
    "plt.ylabel('mean no. of users')\n",
    "plt.xlabel('hour')\n",
    "plt.title('Mean no. of users')\n",
    "plt.grid()\n",
    "plt.show()"
   ]
  },
  {
   "cell_type": "code",
   "execution_count": 149,
   "metadata": {},
   "outputs": [],
   "source": [
    "ss2=ts.groupby('day_of_week').agg({'no_of_requests':'mean','no_of_users':'mean'}).reset_index()"
   ]
  },
  {
   "cell_type": "code",
   "execution_count": 150,
   "metadata": {},
   "outputs": [
    {
     "data": {
      "text/html": [
       "<div>\n",
       "<style scoped>\n",
       "    .dataframe tbody tr th:only-of-type {\n",
       "        vertical-align: middle;\n",
       "    }\n",
       "\n",
       "    .dataframe tbody tr th {\n",
       "        vertical-align: top;\n",
       "    }\n",
       "\n",
       "    .dataframe thead th {\n",
       "        text-align: right;\n",
       "    }\n",
       "</style>\n",
       "<table border=\"1\" class=\"dataframe\">\n",
       "  <thead>\n",
       "    <tr style=\"text-align: right;\">\n",
       "      <th></th>\n",
       "      <th>day_of_week</th>\n",
       "      <th>no_of_requests</th>\n",
       "      <th>no_of_users</th>\n",
       "    </tr>\n",
       "  </thead>\n",
       "  <tbody>\n",
       "    <tr>\n",
       "      <th>0</th>\n",
       "      <td>Friday</td>\n",
       "      <td>2,773.34</td>\n",
       "      <td>274.47</td>\n",
       "    </tr>\n",
       "    <tr>\n",
       "      <th>1</th>\n",
       "      <td>Monday</td>\n",
       "      <td>2,742.14</td>\n",
       "      <td>269.77</td>\n",
       "    </tr>\n",
       "    <tr>\n",
       "      <th>2</th>\n",
       "      <td>Saturday</td>\n",
       "      <td>1,661.55</td>\n",
       "      <td>165.67</td>\n",
       "    </tr>\n",
       "    <tr>\n",
       "      <th>3</th>\n",
       "      <td>Sunday</td>\n",
       "      <td>1,608.19</td>\n",
       "      <td>156.17</td>\n",
       "    </tr>\n",
       "    <tr>\n",
       "      <th>4</th>\n",
       "      <td>Thursday</td>\n",
       "      <td>3,196.09</td>\n",
       "      <td>307.54</td>\n",
       "    </tr>\n",
       "  </tbody>\n",
       "</table>\n",
       "</div>"
      ],
      "text/plain": [
       "  day_of_week  no_of_requests  no_of_users\n",
       "0      Friday        2,773.34       274.47\n",
       "1      Monday        2,742.14       269.77\n",
       "2    Saturday        1,661.55       165.67\n",
       "3      Sunday        1,608.19       156.17\n",
       "4    Thursday        3,196.09       307.54"
      ]
     },
     "execution_count": 150,
     "metadata": {},
     "output_type": "execute_result"
    }
   ],
   "source": [
    "ss2.head()"
   ]
  },
  {
   "cell_type": "code",
   "execution_count": 154,
   "metadata": {},
   "outputs": [
    {
     "data": {
      "image/png": "[encoded data removed]",
      "text/plain": [
       "<matplotlib.figure.Figure at 0x1430ff860>"
      ]
     },
     "metadata": {},
     "output_type": "display_data"
    }
   ],
   "source": [
    "data=ss2[['day_of_week','no_of_requests']]\n",
    "data=data.set_index('day_of_week')\n",
    "fig = plt.figure(figsize=[18,6])\n",
    "ax = fig.add_subplot(111,axisbg='#000333')\n",
    "plt.plot(data,'c--',ms=2.0,lw=2.0)\n",
    "plt.ylabel('mean_no_of_requests')\n",
    "plt.xlabel('weekday')\n",
    "plt.title('Mean no. of requests')\n",
    "plt.grid()\n",
    "plt.show()"
   ]
  },
  {
   "cell_type": "code",
   "execution_count": 156,
   "metadata": {},
   "outputs": [
    {
     "data": {
      "image/png": "[encoded data removed]",
      "text/plain": [
       "<matplotlib.figure.Figure at 0x12a18f978>"
      ]
     },
     "metadata": {},
     "output_type": "display_data"
    }
   ],
   "source": [
    "data=ss2[['day_of_week','no_of_users']]\n",
    "data=data.set_index('day_of_week')\n",
    "fig = plt.figure(figsize=[18,6])\n",
    "ax = fig.add_subplot(111,axisbg='#000333')\n",
    "plt.plot(data,'c--',ms=2.0,lw=2.0)\n",
    "plt.ylabel('mean_no_of_users')\n",
    "plt.xlabel('weekday')\n",
    "plt.title('Mean no. of users')\n",
    "plt.grid()\n",
    "plt.show()"
   ]
  },
  {
   "cell_type": "markdown",
   "metadata": {},
   "source": [
    "### by date"
   ]
  },
  {
   "cell_type": "code",
   "execution_count": 106,
   "metadata": {},
   "outputs": [],
   "source": [
    "ts_1=df_all.groupby(['date']).agg({'host':['count','nunique'],'bytes':'sum','url':['count','nunique']}).reset_index()\n",
    "ts_1.columns=['date','no_of_requests','unique_users','data_size_bytes','total_pages','unique_pages']\n",
    "ts_1['data_size_MB']=ts_1['data_size_bytes']/1024.0\n",
    "ts_1['data_rate']=ts_1['data_size_MB']/(3600.0*24)\n",
    "\n",
    "ts_1=ts_1.sort_values(by=['date'],ascending=True)"
   ]
  },
  {
   "cell_type": "code",
   "execution_count": 107,
   "metadata": {},
   "outputs": [
    {
     "data": {
      "text/html": [
       "<div>\n",
       "<style scoped>\n",
       "    .dataframe tbody tr th:only-of-type {\n",
       "        vertical-align: middle;\n",
       "    }\n",
       "\n",
       "    .dataframe tbody tr th {\n",
       "        vertical-align: top;\n",
       "    }\n",
       "\n",
       "    .dataframe thead th {\n",
       "        text-align: right;\n",
       "    }\n",
       "</style>\n",
       "<table border=\"1\" class=\"dataframe\">\n",
       "  <thead>\n",
       "    <tr style=\"text-align: right;\">\n",
       "      <th></th>\n",
       "      <th>date</th>\n",
       "      <th>no_of_requests</th>\n",
       "      <th>unique_users</th>\n",
       "      <th>data_size_bytes</th>\n",
       "      <th>total_pages</th>\n",
       "      <th>unique_pages</th>\n",
       "      <th>data_size_MB</th>\n",
       "      <th>data_rate</th>\n",
       "    </tr>\n",
       "  </thead>\n",
       "  <tbody>\n",
       "    <tr>\n",
       "      <th>0</th>\n",
       "      <td>1995-07-01</td>\n",
       "      <td>52123</td>\n",
       "      <td>4243</td>\n",
       "      <td>1303817518</td>\n",
       "      <td>52123</td>\n",
       "      <td>3070</td>\n",
       "      <td>1,273,259.29</td>\n",
       "      <td>14.74</td>\n",
       "    </tr>\n",
       "    <tr>\n",
       "      <th>1</th>\n",
       "      <td>1995-07-02</td>\n",
       "      <td>59070</td>\n",
       "      <td>4781</td>\n",
       "      <td>1519826447</td>\n",
       "      <td>59070</td>\n",
       "      <td>3274</td>\n",
       "      <td>1,484,205.51</td>\n",
       "      <td>17.18</td>\n",
       "    </tr>\n",
       "    <tr>\n",
       "      <th>2</th>\n",
       "      <td>1995-07-03</td>\n",
       "      <td>88868</td>\n",
       "      <td>7268</td>\n",
       "      <td>2056761248</td>\n",
       "      <td>88868</td>\n",
       "      <td>3900</td>\n",
       "      <td>2,008,555.91</td>\n",
       "      <td>23.25</td>\n",
       "    </tr>\n",
       "    <tr>\n",
       "      <th>3</th>\n",
       "      <td>1995-07-04</td>\n",
       "      <td>73121</td>\n",
       "      <td>5816</td>\n",
       "      <td>1840008885</td>\n",
       "      <td>73121</td>\n",
       "      <td>3593</td>\n",
       "      <td>1,796,883.68</td>\n",
       "      <td>20.80</td>\n",
       "    </tr>\n",
       "    <tr>\n",
       "      <th>4</th>\n",
       "      <td>1995-07-05</td>\n",
       "      <td>93899</td>\n",
       "      <td>7152</td>\n",
       "      <td>2057168423</td>\n",
       "      <td>93899</td>\n",
       "      <td>4004</td>\n",
       "      <td>2,008,953.54</td>\n",
       "      <td>23.25</td>\n",
       "    </tr>\n",
       "  </tbody>\n",
       "</table>\n",
       "</div>"
      ],
      "text/plain": [
       "        date  no_of_requests  unique_users  data_size_bytes  total_pages  \\\n",
       "0 1995-07-01           52123          4243       1303817518        52123   \n",
       "1 1995-07-02           59070          4781       1519826447        59070   \n",
       "2 1995-07-03           88868          7268       2056761248        88868   \n",
       "3 1995-07-04           73121          5816       1840008885        73121   \n",
       "4 1995-07-05           93899          7152       2057168423        93899   \n",
       "\n",
       "   unique_pages  data_size_MB  data_rate  \n",
       "0          3070  1,273,259.29      14.74  \n",
       "1          3274  1,484,205.51      17.18  \n",
       "2          3900  2,008,555.91      23.25  \n",
       "3          3593  1,796,883.68      20.80  \n",
       "4          4004  2,008,953.54      23.25  "
      ]
     },
     "execution_count": 107,
     "metadata": {},
     "output_type": "execute_result"
    }
   ],
   "source": [
    "ts_1.head()"
   ]
  },
  {
   "cell_type": "code",
   "execution_count": 105,
   "metadata": {},
   "outputs": [
    {
     "data": {
      "image/png": "[encoded data removed]",
      "text/plain": [
       "<matplotlib.figure.Figure at 0x148876f98>"
      ]
     },
     "metadata": {},
     "output_type": "display_data"
    }
   ],
   "source": [
    "data=ts_1[['date','no_of_requests']]\n",
    "data=data.set_index('date')\n",
    "fig = plt.figure(figsize=[18,6])\n",
    "ax = fig.add_subplot(111,axisbg='#000333')\n",
    "plt.plot(data,'c--',ms=2.0,lw=2.0)\n",
    "plt.ylabel('user_load')\n",
    "plt.xlabel('date')\n",
    "plt.title('User load by the date')\n",
    "plt.grid()\n",
    "plt.show()"
   ]
  },
  {
   "cell_type": "code",
   "execution_count": 112,
   "metadata": {},
   "outputs": [],
   "source": [
    "ts_2=df_all.groupby(['hour']).agg({'host':'count','bytes':'mean','url':'count'}).reset_index()\n",
    "ts_2.columns=['hour','total_requests','mean_data_size_bytes','total_pages']\n",
    "ts_2['mean_data_size_MB']=ts_2['mean_data_size_bytes']/1024.0\n",
    "ts_2['mean_data_rate']=ts_2['mean_data_size_MB']/3600.0\n",
    "ts_2=ts_2.sort_values(by=['hour'],ascending=True)"
   ]
  },
  {
   "cell_type": "code",
   "execution_count": 113,
   "metadata": {},
   "outputs": [
    {
     "data": {
      "image/png": "[encoded data removed]",
      "text/plain": [
       "<matplotlib.figure.Figure at 0x123033438>"
      ]
     },
     "metadata": {},
     "output_type": "display_data"
    }
   ],
   "source": [
    "data=ts_2[['hour','total_requests']]\n",
    "data=data.set_index('hour')\n",
    "fig = plt.figure(figsize=[18,6])\n",
    "ax = fig.add_subplot(111,axisbg='#000333')\n",
    "plt.plot(data,'c--',ms=2.0,lw=2.0)\n",
    "plt.ylabel('user_load')\n",
    "plt.xlabel('hour')\n",
    "plt.title('User load by the hour')\n",
    "plt.grid()\n",
    "plt.show()"
   ]
  },
  {
   "cell_type": "code",
   "execution_count": 124,
   "metadata": {},
   "outputs": [],
   "source": [
    "#number of new users time series\n",
    "ts_3=df_all[df_all['count']==1].groupby(['date_hour']).agg({'host':'count'}).reset_index()\n",
    "ts_4=df_all[df_all['count']==1].groupby(['date']).agg({'host':'count'}).reset_index()"
   ]
  },
  {
   "cell_type": "code",
   "execution_count": 123,
   "metadata": {},
   "outputs": [
    {
     "data": {
      "text/html": [
       "<div>\n",
       "<style scoped>\n",
       "    .dataframe tbody tr th:only-of-type {\n",
       "        vertical-align: middle;\n",
       "    }\n",
       "\n",
       "    .dataframe tbody tr th {\n",
       "        vertical-align: top;\n",
       "    }\n",
       "\n",
       "    .dataframe thead th {\n",
       "        text-align: right;\n",
       "    }\n",
       "</style>\n",
       "<table border=\"1\" class=\"dataframe\">\n",
       "  <thead>\n",
       "    <tr style=\"text-align: right;\">\n",
       "      <th></th>\n",
       "      <th>date_hour</th>\n",
       "      <th>host</th>\n",
       "    </tr>\n",
       "  </thead>\n",
       "  <tbody>\n",
       "    <tr>\n",
       "      <th>0</th>\n",
       "      <td>1995-07-01 04:01:01</td>\n",
       "      <td>378</td>\n",
       "    </tr>\n",
       "    <tr>\n",
       "      <th>1</th>\n",
       "      <td>1995-07-01 05:01:01</td>\n",
       "      <td>266</td>\n",
       "    </tr>\n",
       "    <tr>\n",
       "      <th>2</th>\n",
       "      <td>1995-07-01 06:01:01</td>\n",
       "      <td>201</td>\n",
       "    </tr>\n",
       "    <tr>\n",
       "      <th>3</th>\n",
       "      <td>1995-07-01 07:01:01</td>\n",
       "      <td>146</td>\n",
       "    </tr>\n",
       "    <tr>\n",
       "      <th>4</th>\n",
       "      <td>1995-07-01 08:01:01</td>\n",
       "      <td>132</td>\n",
       "    </tr>\n",
       "  </tbody>\n",
       "</table>\n",
       "</div>"
      ],
      "text/plain": [
       "            date_hour  host\n",
       "0 1995-07-01 04:01:01   378\n",
       "1 1995-07-01 05:01:01   266\n",
       "2 1995-07-01 06:01:01   201\n",
       "3 1995-07-01 07:01:01   146\n",
       "4 1995-07-01 08:01:01   132"
      ]
     },
     "execution_count": 123,
     "metadata": {},
     "output_type": "execute_result"
    }
   ],
   "source": [
    "ts_3.head()"
   ]
  },
  {
   "cell_type": "code",
   "execution_count": 127,
   "metadata": {},
   "outputs": [
    {
     "data": {
      "image/png": "[encoded data removed]",
      "text/plain": [
       "<matplotlib.figure.Figure at 0x12d34c588>"
      ]
     },
     "metadata": {},
     "output_type": "display_data"
    }
   ],
   "source": [
    "data=ts_3[['date_hour','host']]\n",
    "data=data.set_index('date_hour')\n",
    "fig = plt.figure(figsize=[18,6])\n",
    "ax = fig.add_subplot(111,axisbg='#000333')\n",
    "plt.plot(data,'c--',ms=2.0,lw=2.0)\n",
    "plt.ylabel('new_users_count')\n",
    "plt.xlabel('date_hour')\n",
    "plt.title('new users by the hour')\n",
    "plt.grid()\n",
    "plt.show()"
   ]
  },
  {
   "cell_type": "code",
   "execution_count": 125,
   "metadata": {},
   "outputs": [
    {
     "data": {
      "text/html": [
       "<div>\n",
       "<style scoped>\n",
       "    .dataframe tbody tr th:only-of-type {\n",
       "        vertical-align: middle;\n",
       "    }\n",
       "\n",
       "    .dataframe tbody tr th {\n",
       "        vertical-align: top;\n",
       "    }\n",
       "\n",
       "    .dataframe thead th {\n",
       "        text-align: right;\n",
       "    }\n",
       "</style>\n",
       "<table border=\"1\" class=\"dataframe\">\n",
       "  <thead>\n",
       "    <tr style=\"text-align: right;\">\n",
       "      <th></th>\n",
       "      <th>date</th>\n",
       "      <th>host</th>\n",
       "    </tr>\n",
       "  </thead>\n",
       "  <tbody>\n",
       "    <tr>\n",
       "      <th>0</th>\n",
       "      <td>1995-07-01</td>\n",
       "      <td>4243</td>\n",
       "    </tr>\n",
       "    <tr>\n",
       "      <th>1</th>\n",
       "      <td>1995-07-02</td>\n",
       "      <td>4248</td>\n",
       "    </tr>\n",
       "    <tr>\n",
       "      <th>2</th>\n",
       "      <td>1995-07-03</td>\n",
       "      <td>6378</td>\n",
       "    </tr>\n",
       "    <tr>\n",
       "      <th>3</th>\n",
       "      <td>1995-07-04</td>\n",
       "      <td>4524</td>\n",
       "    </tr>\n",
       "    <tr>\n",
       "      <th>4</th>\n",
       "      <td>1995-07-05</td>\n",
       "      <td>5654</td>\n",
       "    </tr>\n",
       "  </tbody>\n",
       "</table>\n",
       "</div>"
      ],
      "text/plain": [
       "        date  host\n",
       "0 1995-07-01  4243\n",
       "1 1995-07-02  4248\n",
       "2 1995-07-03  6378\n",
       "3 1995-07-04  4524\n",
       "4 1995-07-05  5654"
      ]
     },
     "execution_count": 125,
     "metadata": {},
     "output_type": "execute_result"
    }
   ],
   "source": [
    "ts_4.head()"
   ]
  },
  {
   "cell_type": "code",
   "execution_count": 128,
   "metadata": {},
   "outputs": [
    {
     "data": {
      "image/png": "[encoded data removed]",
      "text/plain": [
       "<matplotlib.figure.Figure at 0x1230335c0>"
      ]
     },
     "metadata": {},
     "output_type": "display_data"
    }
   ],
   "source": [
    "data=ts_4[['date','host']]\n",
    "data=data.set_index('date')\n",
    "fig = plt.figure(figsize=[18,6])\n",
    "ax = fig.add_subplot(111,axisbg='#000333')\n",
    "plt.plot(data,'c--',ms=2.0,lw=2.0)\n",
    "plt.ylabel('new_users_count')\n",
    "plt.xlabel('date')\n",
    "plt.title('new users by date')\n",
    "plt.grid()\n",
    "plt.show()"
   ]
  },
  {
   "cell_type": "code",
   "execution_count": null,
   "metadata": {},
   "outputs": [],
   "source": []
  }
 ],
 "metadata": {
  "kernelspec": {
   "display_name": "Python 3",
   "language": "python",
   "name": "python3"
  },
  "language_info": {
   "codemirror_mode": {
    "name": "ipython",
    "version": 3
   },
   "file_extension": ".py",
   "mimetype": "text/x-python",
   "name": "python",
   "nbconvert_exporter": "python",
   "pygments_lexer": "ipython3",
   "version": "3.6.3"
  }
 },
 "nbformat": 4,
 "nbformat_minor": 2
}
