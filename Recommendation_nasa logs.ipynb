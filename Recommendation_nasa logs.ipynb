{
 "cells": [
  {
   "cell_type": "code",
   "execution_count": 1,
   "metadata": {
    "collapsed": true
   },
   "outputs": [],
   "source": [
    "import pandas as pd\n",
    "import numpy as np\n",
    "from datetime import datetime\n",
    "from datetime import date\n",
    "from dateutil.relativedelta import relativedelta"
   ]
  },
  {
   "cell_type": "code",
   "execution_count": 4,
   "metadata": {
    "collapsed": true
   },
   "outputs": [],
   "source": [
    "pd.set_option('display.max_rows', None)\n",
    "pd.set_option('display.max_columns', None)"
   ]
  },
  {
   "cell_type": "code",
   "execution_count": 30,
   "metadata": {
    "collapsed": true
   },
   "outputs": [],
   "source": [
    "from surprise import Dataset\n",
    "from surprise import Reader"
   ]
  },
  {
   "cell_type": "code",
   "execution_count": 31,
   "metadata": {
    "collapsed": true
   },
   "outputs": [],
   "source": [
    "from surprise import SVD\n",
    "from surprise import accuracy\n",
    "from surprise.model_selection import train_test_split\n",
    "from surprise.model_selection import GridSearchCV"
   ]
  },
  {
   "cell_type": "code",
   "execution_count": 43,
   "metadata": {
    "collapsed": true
   },
   "outputs": [],
   "source": [
    "df_all=pd.read_csv('/Users/sri.t/Desktop/nsas_logs.csv',sep=',')"
   ]
  },
  {
   "cell_type": "code",
   "execution_count": null,
   "metadata": {
    "collapsed": true
   },
   "outputs": [],
   "source": [
    "df_all.shape"
   ]
  },
  {
   "cell_type": "code",
   "execution_count": null,
   "metadata": {
    "collapsed": true
   },
   "outputs": [],
   "source": [
    "df_all.head()"
   ]
  },
  {
   "cell_type": "code",
   "execution_count": 5,
   "metadata": {},
   "outputs": [
    {
     "name": "stdout",
     "output_type": "stream",
     "text": [
      "[]\n"
     ]
    }
   ],
   "source": [
    "## Listing all active dataframe in memory\n",
    "#alldfs = [var for var in dir() if isinstance(eval(var), pd.core.frame.DataFrame)]\n",
    "alldfs = [var for var in dir() if isinstance(eval(var), np.ndarray)]\n",
    "#alldfs = [var for var in dir() if isinstance(eval(var), defaultdict)]\n",
    "#alldfs = [var for var in dir() if isinstance(eval(var), list)]\n",
    "print(alldfs)"
   ]
  },
  {
   "cell_type": "markdown",
   "metadata": {},
   "source": [
    "### Start with recommendation"
   ]
  },
  {
   "cell_type": "code",
   "execution_count": 116,
   "metadata": {
    "collapsed": true
   },
   "outputs": [],
   "source": [
    "# do this exercise for only successful pages\n",
    "## Limit to pages of high hit\n",
    "## Is there any users CRM information like country etc\n",
    "## \n",
    "#use low rank matrix factorization (NMF or SVD), it gives latent features "
   ]
  },
  {
   "cell_type": "code",
   "execution_count": 140,
   "metadata": {
    "collapsed": true
   },
   "outputs": [],
   "source": [
    "#reco_x=pd.crosstab(df_all[df_all['dates_unique']>1]['index_y'],df_all[df_all['dates_unique']>1]['index_x'])"
   ]
  },
  {
   "cell_type": "code",
   "execution_count": 6,
   "metadata": {
    "collapsed": true
   },
   "outputs": [],
   "source": [
    "reco_x=df_all[df_all['response'].isin([200,302,304])].groupby(['index_y','index_x','dates_unique']).agg({'bytes':'count'}).reset_index()"
   ]
  },
  {
   "cell_type": "code",
   "execution_count": 7,
   "metadata": {},
   "outputs": [
    {
     "data": {
      "text/plain": [
       "(2130521, 4)"
      ]
     },
     "execution_count": 7,
     "metadata": {},
     "output_type": "execute_result"
    }
   ],
   "source": [
    "reco_x.shape"
   ]
  },
  {
   "cell_type": "code",
   "execution_count": 8,
   "metadata": {
    "collapsed": true
   },
   "outputs": [],
   "source": [
    "reco_x.columns=['host','url','visits','no_of_views']"
   ]
  },
  {
   "cell_type": "code",
   "execution_count": 9,
   "metadata": {},
   "outputs": [
    {
     "data": {
      "text/html": [
       "<div>\n",
       "<style scoped>\n",
       "    .dataframe tbody tr th:only-of-type {\n",
       "        vertical-align: middle;\n",
       "    }\n",
       "\n",
       "    .dataframe tbody tr th {\n",
       "        vertical-align: top;\n",
       "    }\n",
       "\n",
       "    .dataframe thead th {\n",
       "        text-align: right;\n",
       "    }\n",
       "</style>\n",
       "<table border=\"1\" class=\"dataframe\">\n",
       "  <thead>\n",
       "    <tr style=\"text-align: right;\">\n",
       "      <th></th>\n",
       "      <th>host</th>\n",
       "      <th>url</th>\n",
       "      <th>visits</th>\n",
       "      <th>no_of_views</th>\n",
       "    </tr>\n",
       "  </thead>\n",
       "  <tbody>\n",
       "    <tr>\n",
       "      <th>0</th>\n",
       "      <td>U1</td>\n",
       "      <td>P1</td>\n",
       "      <td>2</td>\n",
       "      <td>1</td>\n",
       "    </tr>\n",
       "    <tr>\n",
       "      <th>1</th>\n",
       "      <td>U1</td>\n",
       "      <td>P10</td>\n",
       "      <td>2</td>\n",
       "      <td>2</td>\n",
       "    </tr>\n",
       "    <tr>\n",
       "      <th>2</th>\n",
       "      <td>U1</td>\n",
       "      <td>P11</td>\n",
       "      <td>2</td>\n",
       "      <td>1</td>\n",
       "    </tr>\n",
       "    <tr>\n",
       "      <th>3</th>\n",
       "      <td>U1</td>\n",
       "      <td>P12</td>\n",
       "      <td>2</td>\n",
       "      <td>2</td>\n",
       "    </tr>\n",
       "    <tr>\n",
       "      <th>4</th>\n",
       "      <td>U1</td>\n",
       "      <td>P13</td>\n",
       "      <td>2</td>\n",
       "      <td>2</td>\n",
       "    </tr>\n",
       "  </tbody>\n",
       "</table>\n",
       "</div>"
      ],
      "text/plain": [
       "  host  url  visits  no_of_views\n",
       "0   U1   P1       2            1\n",
       "1   U1  P10       2            2\n",
       "2   U1  P11       2            1\n",
       "3   U1  P12       2            2\n",
       "4   U1  P13       2            2"
      ]
     },
     "execution_count": 9,
     "metadata": {},
     "output_type": "execute_result"
    }
   ],
   "source": [
    "reco_x.head()"
   ]
  },
  {
   "cell_type": "code",
   "execution_count": 10,
   "metadata": {
    "collapsed": true
   },
   "outputs": [],
   "source": [
    "reco_x['total_views']=reco_x.groupby('url')['no_of_views'].transform(sum)"
   ]
  },
  {
   "cell_type": "code",
   "execution_count": 11,
   "metadata": {
    "collapsed": true
   },
   "outputs": [],
   "source": [
    "reco_x=reco_x.sort_values(by='total_views',ascending=False)"
   ]
  },
  {
   "cell_type": "code",
   "execution_count": 12,
   "metadata": {},
   "outputs": [
    {
     "data": {
      "text/html": [
       "<div>\n",
       "<style scoped>\n",
       "    .dataframe tbody tr th:only-of-type {\n",
       "        vertical-align: middle;\n",
       "    }\n",
       "\n",
       "    .dataframe tbody tr th {\n",
       "        vertical-align: top;\n",
       "    }\n",
       "\n",
       "    .dataframe thead th {\n",
       "        text-align: right;\n",
       "    }\n",
       "</style>\n",
       "<table border=\"1\" class=\"dataframe\">\n",
       "  <thead>\n",
       "    <tr style=\"text-align: right;\">\n",
       "      <th></th>\n",
       "      <th>host</th>\n",
       "      <th>url</th>\n",
       "      <th>visits</th>\n",
       "      <th>no_of_views</th>\n",
       "      <th>total_views</th>\n",
       "    </tr>\n",
       "  </thead>\n",
       "  <tbody>\n",
       "    <tr>\n",
       "      <th>1176639</th>\n",
       "      <td>U43696</td>\n",
       "      <td>P5</td>\n",
       "      <td>1</td>\n",
       "      <td>1</td>\n",
       "      <td>208798</td>\n",
       "    </tr>\n",
       "    <tr>\n",
       "      <th>1691056</th>\n",
       "      <td>U72938</td>\n",
       "      <td>P5</td>\n",
       "      <td>2</td>\n",
       "      <td>1</td>\n",
       "      <td>208798</td>\n",
       "    </tr>\n",
       "    <tr>\n",
       "      <th>1054071</th>\n",
       "      <td>U38281</td>\n",
       "      <td>P5</td>\n",
       "      <td>4</td>\n",
       "      <td>2</td>\n",
       "      <td>208798</td>\n",
       "    </tr>\n",
       "    <tr>\n",
       "      <th>1691011</th>\n",
       "      <td>U72935</td>\n",
       "      <td>P5</td>\n",
       "      <td>1</td>\n",
       "      <td>1</td>\n",
       "      <td>208798</td>\n",
       "    </tr>\n",
       "    <tr>\n",
       "      <th>1054061</th>\n",
       "      <td>U38280</td>\n",
       "      <td>P5</td>\n",
       "      <td>1</td>\n",
       "      <td>1</td>\n",
       "      <td>208798</td>\n",
       "    </tr>\n",
       "  </tbody>\n",
       "</table>\n",
       "</div>"
      ],
      "text/plain": [
       "           host url  visits  no_of_views  total_views\n",
       "1176639  U43696  P5       1            1       208798\n",
       "1691056  U72938  P5       2            1       208798\n",
       "1054071  U38281  P5       4            2       208798\n",
       "1691011  U72935  P5       1            1       208798\n",
       "1054061  U38280  P5       1            1       208798"
      ]
     },
     "execution_count": 12,
     "metadata": {},
     "output_type": "execute_result"
    }
   ],
   "source": [
    "reco_x.head()"
   ]
  },
  {
   "cell_type": "code",
   "execution_count": 69,
   "metadata": {
    "collapsed": true
   },
   "outputs": [],
   "source": [
    "#reco_x.describe()"
   ]
  },
  {
   "cell_type": "code",
   "execution_count": 13,
   "metadata": {
    "collapsed": true
   },
   "outputs": [],
   "source": [
    "reco_x_new=reco_x[reco_x['total_views']>10]"
   ]
  },
  {
   "cell_type": "code",
   "execution_count": 14,
   "metadata": {},
   "outputs": [
    {
     "name": "stdout",
     "output_type": "stream",
     "text": [
      "(2081791, 5)\n",
      "137463\n",
      "4524\n",
      "3390334\n"
     ]
    }
   ],
   "source": [
    "print (reco_x_new.shape)\n",
    "print (len(reco_x_new['host'].unique()))\n",
    "print (len(reco_x_new['url'].unique()))\n",
    "print (reco_x_new['no_of_views'].sum())"
   ]
  },
  {
   "cell_type": "code",
   "execution_count": 15,
   "metadata": {},
   "outputs": [
    {
     "name": "stdout",
     "output_type": "stream",
     "text": [
      "(2130521, 5)\n",
      "137524\n",
      "27487\n",
      "3440364\n"
     ]
    }
   ],
   "source": [
    "print (reco_x.shape)\n",
    "print (len(reco_x['host'].unique()))\n",
    "print (len(reco_x['url'].unique()))\n",
    "print (reco_x['no_of_views'].sum())"
   ]
  },
  {
   "cell_type": "code",
   "execution_count": 19,
   "metadata": {},
   "outputs": [
    {
     "data": {
      "text/plain": [
       "host           U99999\n",
       "url             P9996\n",
       "visits             58\n",
       "no_of_views      2549\n",
       "total_views    208798\n",
       "dtype: object"
      ]
     },
     "execution_count": 19,
     "metadata": {},
     "output_type": "execute_result"
    }
   ],
   "source": [
    "reco_x_new.max()"
   ]
  },
  {
   "cell_type": "code",
   "execution_count": 20,
   "metadata": {},
   "outputs": [
    {
     "data": {
      "text/plain": [
       "(1105, 5)"
      ]
     },
     "execution_count": 20,
     "metadata": {},
     "output_type": "execute_result"
    }
   ],
   "source": [
    "reco_x_new[reco_x_new['no_of_views']>100].shape\n",
    "#only 1100 combination of host and url with greater than 100 views of 1.8M combinations, clipping the views no to ensure views during normalization is not skewed"
   ]
  },
  {
   "cell_type": "code",
   "execution_count": 21,
   "metadata": {
    "collapsed": true
   },
   "outputs": [],
   "source": [
    "reco_x_new['no_of_views_1']=[100 if x>100 else x for x in reco_x_new['no_of_views']]"
   ]
  },
  {
   "cell_type": "code",
   "execution_count": 22,
   "metadata": {},
   "outputs": [
    {
     "data": {
      "text/plain": [
       "host             U99999\n",
       "url               P9996\n",
       "visits               58\n",
       "no_of_views        2549\n",
       "total_views      208798\n",
       "no_of_views_1       100\n",
       "dtype: object"
      ]
     },
     "execution_count": 22,
     "metadata": {},
     "output_type": "execute_result"
    }
   ],
   "source": [
    "reco_x_new.max()"
   ]
  },
  {
   "cell_type": "code",
   "execution_count": 17,
   "metadata": {
    "collapsed": true
   },
   "outputs": [],
   "source": [
    "from sklearn.preprocessing import Normalizer, MinMaxScaler\n",
    "normal=Normalizer()\n",
    "MinMax=MinMaxScaler(feature_range=(1, 5))"
   ]
  },
  {
   "cell_type": "code",
   "execution_count": 27,
   "metadata": {
    "collapsed": true
   },
   "outputs": [],
   "source": [
    "#Normalize ratings to a scale\n",
    "reco_x_new['#_views']=MinMax.fit_transform(reco_x_new[['no_of_views_1']])"
   ]
  },
  {
   "cell_type": "code",
   "execution_count": 24,
   "metadata": {
    "collapsed": true
   },
   "outputs": [],
   "source": [
    "reco_x_new=reco_x_new.round(decimals=0)"
   ]
  },
  {
   "cell_type": "code",
   "execution_count": 28,
   "metadata": {},
   "outputs": [
    {
     "data": {
      "text/html": [
       "<div>\n",
       "<style scoped>\n",
       "    .dataframe tbody tr th:only-of-type {\n",
       "        vertical-align: middle;\n",
       "    }\n",
       "\n",
       "    .dataframe tbody tr th {\n",
       "        vertical-align: top;\n",
       "    }\n",
       "\n",
       "    .dataframe thead th {\n",
       "        text-align: right;\n",
       "    }\n",
       "</style>\n",
       "<table border=\"1\" class=\"dataframe\">\n",
       "  <thead>\n",
       "    <tr style=\"text-align: right;\">\n",
       "      <th></th>\n",
       "      <th>host</th>\n",
       "      <th>url</th>\n",
       "      <th>visits</th>\n",
       "      <th>no_of_views</th>\n",
       "      <th>total_views</th>\n",
       "      <th>no_of_views_1</th>\n",
       "      <th>#_views</th>\n",
       "    </tr>\n",
       "  </thead>\n",
       "  <tbody>\n",
       "    <tr>\n",
       "      <th>1176639</th>\n",
       "      <td>U43696</td>\n",
       "      <td>P5</td>\n",
       "      <td>1</td>\n",
       "      <td>1</td>\n",
       "      <td>208798</td>\n",
       "      <td>1</td>\n",
       "      <td>1.000000</td>\n",
       "    </tr>\n",
       "    <tr>\n",
       "      <th>1691056</th>\n",
       "      <td>U72938</td>\n",
       "      <td>P5</td>\n",
       "      <td>2</td>\n",
       "      <td>1</td>\n",
       "      <td>208798</td>\n",
       "      <td>1</td>\n",
       "      <td>1.000000</td>\n",
       "    </tr>\n",
       "    <tr>\n",
       "      <th>1054071</th>\n",
       "      <td>U38281</td>\n",
       "      <td>P5</td>\n",
       "      <td>4</td>\n",
       "      <td>2</td>\n",
       "      <td>208798</td>\n",
       "      <td>2</td>\n",
       "      <td>1.040404</td>\n",
       "    </tr>\n",
       "    <tr>\n",
       "      <th>1691011</th>\n",
       "      <td>U72935</td>\n",
       "      <td>P5</td>\n",
       "      <td>1</td>\n",
       "      <td>1</td>\n",
       "      <td>208798</td>\n",
       "      <td>1</td>\n",
       "      <td>1.000000</td>\n",
       "    </tr>\n",
       "    <tr>\n",
       "      <th>1054061</th>\n",
       "      <td>U38280</td>\n",
       "      <td>P5</td>\n",
       "      <td>1</td>\n",
       "      <td>1</td>\n",
       "      <td>208798</td>\n",
       "      <td>1</td>\n",
       "      <td>1.000000</td>\n",
       "    </tr>\n",
       "  </tbody>\n",
       "</table>\n",
       "</div>"
      ],
      "text/plain": [
       "           host url  visits  no_of_views  total_views  no_of_views_1   #_views\n",
       "1176639  U43696  P5       1            1       208798              1  1.000000\n",
       "1691056  U72938  P5       2            1       208798              1  1.000000\n",
       "1054071  U38281  P5       4            2       208798              2  1.040404\n",
       "1691011  U72935  P5       1            1       208798              1  1.000000\n",
       "1054061  U38280  P5       1            1       208798              1  1.000000"
      ]
     },
     "execution_count": 28,
     "metadata": {},
     "output_type": "execute_result"
    }
   ],
   "source": [
    "reco_x_new.head()"
   ]
  },
  {
   "cell_type": "code",
   "execution_count": 29,
   "metadata": {},
   "outputs": [
    {
     "data": {
      "text/plain": [
       "host             U99999\n",
       "url               P9996\n",
       "visits               58\n",
       "no_of_views        2549\n",
       "total_views      208798\n",
       "no_of_views_1       100\n",
       "#_views               5\n",
       "dtype: object"
      ]
     },
     "execution_count": 29,
     "metadata": {},
     "output_type": "execute_result"
    }
   ],
   "source": [
    "reco_x_new.max()"
   ]
  },
  {
   "cell_type": "code",
   "execution_count": 56,
   "metadata": {},
   "outputs": [
    {
     "data": {
      "text/plain": [
       "1.0    2067926\n",
       "2.0       9737\n",
       "3.0       1951\n",
       "5.0       1321\n",
       "4.0        856\n",
       "Name: #_views, dtype: int64"
      ]
     },
     "execution_count": 56,
     "metadata": {},
     "output_type": "execute_result"
    }
   ],
   "source": [
    "reco_x_new['#_views'].value_counts()"
   ]
  },
  {
   "cell_type": "markdown",
   "metadata": {},
   "source": [
    "### Building models"
   ]
  },
  {
   "cell_type": "code",
   "execution_count": 33,
   "metadata": {
    "collapsed": true
   },
   "outputs": [],
   "source": [
    "reader = Reader(rating_scale=(1, 5))\n",
    "data = Dataset.load_from_df(reco_x_new[['host','url','#_views']], reader)"
   ]
  },
  {
   "cell_type": "code",
   "execution_count": 34,
   "metadata": {
    "collapsed": true
   },
   "outputs": [],
   "source": [
    "trainset = data.build_full_trainset()"
   ]
  },
  {
   "cell_type": "code",
   "execution_count": 62,
   "metadata": {},
   "outputs": [
    {
     "name": "stdout",
     "output_type": "stream",
     "text": [
      "0.14214190377784416\n",
      "{'n_epochs': 10, 'lr_all': 0.005, 'reg_all': 0.4}\n"
     ]
    }
   ],
   "source": [
    "param_grid = {'n_epochs': [5, 10], 'lr_all': [0.002, 0.005],\n",
    "              'reg_all': [0.4, 0.6]}\n",
    "gs = GridSearchCV(SVD, param_grid, measures=['rmse', 'mae'], cv=3)\n",
    "\n",
    "gs.fit(data)\n",
    "\n",
    "# best RMSE score\n",
    "print(gs.best_score['rmse'])\n",
    "\n",
    "# combination of parameters that gave the best RMSE score\n",
    "print(gs.best_params['rmse'])"
   ]
  },
  {
   "cell_type": "code",
   "execution_count": 38,
   "metadata": {},
   "outputs": [
    {
     "name": "stdout",
     "output_type": "stream",
     "text": [
      "0.13959063645422407\n",
      "{'n_factors': 20, 'n_epochs': 10, 'reg_all': 0.4}\n"
     ]
    }
   ],
   "source": [
    "param_grid = {'n_factors': [20, 50,100],'n_epochs': [10],\n",
    "              'reg_all': [0.4]}\n",
    "gs = GridSearchCV(SVD, param_grid, measures=['rmse', 'mae'], cv=3)\n",
    "\n",
    "gs.fit(data)\n",
    "\n",
    "# best RMSE score\n",
    "print(gs.best_score['rmse'])\n",
    "\n",
    "# combination of parameters that gave the best RMSE score\n",
    "print(gs.best_params['rmse'])"
   ]
  },
  {
   "cell_type": "code",
   "execution_count": 39,
   "metadata": {},
   "outputs": [
    {
     "data": {
      "text/plain": [
       "<surprise.prediction_algorithms.matrix_factorization.SVD at 0x106685470>"
      ]
     },
     "execution_count": 39,
     "metadata": {},
     "output_type": "execute_result"
    }
   ],
   "source": [
    "# We can now use the algorithm that yields the best rmse:\n",
    "algo = gs.best_estimator['rmse']\n",
    "#algo=SVD(n_factors=50,n_epochs=10,lr_all=0.005,reg_all=0.4,verbose=True)\n",
    "algo.fit(trainset)"
   ]
  },
  {
   "cell_type": "code",
   "execution_count": null,
   "metadata": {
    "collapsed": true
   },
   "outputs": [],
   "source": [
    "# Then predict ratings for all pairs (u, i) that are NOT in the training set.\n",
    "testset = trainset.build_anti_testset()\n",
    "predictions = algo.test(testset)"
   ]
  },
  {
   "cell_type": "code",
   "execution_count": 1,
   "metadata": {
    "collapsed": true
   },
   "outputs": [],
   "source": [
    "from collections import defaultdict\n",
    "import json"
   ]
  },
  {
   "cell_type": "code",
   "execution_count": null,
   "metadata": {
    "collapsed": true
   },
   "outputs": [],
   "source": [
    "def get_top_n(predictions, n=10):\n",
    "    top_n = defaultdict(list)\n",
    "    for uid, iid, true_r, est, _ in predictions:\n",
    "        top_n[uid].append((iid, est))\n",
    "\n",
    "    # Then sort the predictions for each user and retrieve the k highest ones.\n",
    "    for uid, user_ratings in top_n.items():\n",
    "        user_ratings.sort(key=lambda x: x[1], reverse=True)\n",
    "        top_n[uid] = user_ratings[:n]\n",
    "\n",
    "    return top_n"
   ]
  },
  {
   "cell_type": "code",
   "execution_count": null,
   "metadata": {
    "collapsed": true
   },
   "outputs": [],
   "source": [
    "top_n = get_top_n(predictions, n=10)"
   ]
  },
  {
   "cell_type": "code",
   "execution_count": null,
   "metadata": {
    "collapsed": true
   },
   "outputs": [],
   "source": [
    "with open('recommendations_nasa.txt', 'w') as file:\n",
    "     file.write(json.dumps(top_n)) "
   ]
  },
  {
   "cell_type": "code",
   "execution_count": 3,
   "metadata": {
    "collapsed": true
   },
   "outputs": [],
   "source": [
    "with open('recommendations_nasa.txt', 'r') as file:\n",
    "     top_n = json.load(file) "
   ]
  },
  {
   "cell_type": "code",
   "execution_count": 4,
   "metadata": {
    "collapsed": true
   },
   "outputs": [],
   "source": [
    "from itertools import islice\n",
    "\n",
    "def take(n, iterable):\n",
    "    \"Return first n items of the iterable as a list\"\n",
    "    return list(islice(iterable, n))"
   ]
  },
  {
   "cell_type": "code",
   "execution_count": 5,
   "metadata": {
    "collapsed": true
   },
   "outputs": [],
   "source": [
    "n_items = take(2, top_n.items())"
   ]
  },
  {
   "cell_type": "code",
   "execution_count": 6,
   "metadata": {},
   "outputs": [
    {
     "data": {
      "text/plain": [
       "[('U5688',\n",
       "  [['P1556', 1.16715250305762],\n",
       "   ['P1554', 1.1281651939619242],\n",
       "   ['P1549', 1.117106160644256],\n",
       "   ['P1553', 1.1139117805615035],\n",
       "   ['P1552', 1.1088558576501535],\n",
       "   ['P1558', 1.0969182603915852],\n",
       "   ['P1555', 1.0954908957241392],\n",
       "   ['P1550', 1.0766938671444497],\n",
       "   ['P1561', 1.0661092988864755],\n",
       "   ['P1557', 1.0540778186385955]]),\n",
       " ('U19908',\n",
       "  [['P1551', 1.2596616114824082],\n",
       "   ['P1557', 1.2335690236378372],\n",
       "   ['P1558', 1.2056471391825472],\n",
       "   ['P1555', 1.2034841351427785],\n",
       "   ['P1549', 1.1896620980280548],\n",
       "   ['P1552', 1.1498917053705302],\n",
       "   ['P1556', 1.1495848159047317],\n",
       "   ['P1550', 1.1476690766753515],\n",
       "   ['P1554', 1.133208497412244],\n",
       "   ['P1553', 1.122907021974394]])]"
      ]
     },
     "execution_count": 6,
     "metadata": {},
     "output_type": "execute_result"
    }
   ],
   "source": [
    "n_items"
   ]
  },
  {
   "cell_type": "code",
   "execution_count": 265,
   "metadata": {},
   "outputs": [
    {
     "data": {
      "text/html": [
       "<div>\n",
       "<style scoped>\n",
       "    .dataframe tbody tr th:only-of-type {\n",
       "        vertical-align: middle;\n",
       "    }\n",
       "\n",
       "    .dataframe tbody tr th {\n",
       "        vertical-align: top;\n",
       "    }\n",
       "\n",
       "    .dataframe thead th {\n",
       "        text-align: right;\n",
       "    }\n",
       "</style>\n",
       "<table border=\"1\" class=\"dataframe\">\n",
       "  <thead>\n",
       "    <tr style=\"text-align: right;\">\n",
       "      <th></th>\n",
       "      <th>host</th>\n",
       "      <th>url</th>\n",
       "      <th>visits</th>\n",
       "      <th>no_of_views</th>\n",
       "      <th>total_views</th>\n",
       "      <th>#_views</th>\n",
       "      <th>no_of_views_1</th>\n",
       "    </tr>\n",
       "  </thead>\n",
       "  <tbody>\n",
       "    <tr>\n",
       "      <th>1443619</th>\n",
       "      <td>U5688</td>\n",
       "      <td>P5</td>\n",
       "      <td>1</td>\n",
       "      <td>1</td>\n",
       "      <td>208798</td>\n",
       "      <td>1.0</td>\n",
       "      <td>1</td>\n",
       "    </tr>\n",
       "    <tr>\n",
       "      <th>1443617</th>\n",
       "      <td>U5688</td>\n",
       "      <td>P3</td>\n",
       "      <td>1</td>\n",
       "      <td>1</td>\n",
       "      <td>127916</td>\n",
       "      <td>1.0</td>\n",
       "      <td>1</td>\n",
       "    </tr>\n",
       "    <tr>\n",
       "      <th>1443618</th>\n",
       "      <td>U5688</td>\n",
       "      <td>P4</td>\n",
       "      <td>1</td>\n",
       "      <td>1</td>\n",
       "      <td>127082</td>\n",
       "      <td>1.0</td>\n",
       "      <td>1</td>\n",
       "    </tr>\n",
       "    <tr>\n",
       "      <th>1443616</th>\n",
       "      <td>U5688</td>\n",
       "      <td>P2</td>\n",
       "      <td>1</td>\n",
       "      <td>1</td>\n",
       "      <td>121580</td>\n",
       "      <td>1.0</td>\n",
       "      <td>1</td>\n",
       "    </tr>\n",
       "    <tr>\n",
       "      <th>1443615</th>\n",
       "      <td>U5688</td>\n",
       "      <td>P1</td>\n",
       "      <td>1</td>\n",
       "      <td>1</td>\n",
       "      <td>83918</td>\n",
       "      <td>1.0</td>\n",
       "      <td>1</td>\n",
       "    </tr>\n",
       "    <tr>\n",
       "      <th>1443620</th>\n",
       "      <td>U5688</td>\n",
       "      <td>P834</td>\n",
       "      <td>1</td>\n",
       "      <td>1</td>\n",
       "      <td>3719</td>\n",
       "      <td>1.0</td>\n",
       "      <td>1</td>\n",
       "    </tr>\n",
       "  </tbody>\n",
       "</table>\n",
       "</div>"
      ],
      "text/plain": [
       "          host   url  visits  no_of_views  total_views  #_views  no_of_views_1\n",
       "1443619  U5688    P5       1            1       208798      1.0              1\n",
       "1443617  U5688    P3       1            1       127916      1.0              1\n",
       "1443618  U5688    P4       1            1       127082      1.0              1\n",
       "1443616  U5688    P2       1            1       121580      1.0              1\n",
       "1443615  U5688    P1       1            1        83918      1.0              1\n",
       "1443620  U5688  P834       1            1         3719      1.0              1"
      ]
     },
     "execution_count": 265,
     "metadata": {},
     "output_type": "execute_result"
    }
   ],
   "source": [
    "reco_x_new[reco_x_new['host']=='U5688']"
   ]
  },
  {
   "cell_type": "markdown",
   "metadata": {},
   "source": [
    "#### ----------- using scipy svds"
   ]
  },
  {
   "cell_type": "code",
   "execution_count": 238,
   "metadata": {
    "collapsed": true
   },
   "outputs": [],
   "source": [
    "R_df = reco_x_new.pivot(index = 'host', columns ='url', values = '#_views').fillna(0)\n",
    "R_df.head()"
   ]
  },
  {
   "cell_type": "code",
   "execution_count": 239,
   "metadata": {
    "collapsed": true
   },
   "outputs": [],
   "source": [
    "R = R_df.as_matrix()\n",
    "user_ratings_mean = np.mean(R, axis = 1)\n",
    "R_norm = R - user_ratings_mean.reshape(-1, 1)"
   ]
  },
  {
   "cell_type": "code",
   "execution_count": null,
   "metadata": {
    "collapsed": true
   },
   "outputs": [],
   "source": [
    "from scipy.sparse.linalg import svds\n",
    "U, sigma, Vt = svds(R_norm_norm, k = 50)"
   ]
  },
  {
   "cell_type": "code",
   "execution_count": null,
   "metadata": {
    "collapsed": true
   },
   "outputs": [],
   "source": [
    "sigma = np.diag(sigma)"
   ]
  },
  {
   "cell_type": "code",
   "execution_count": null,
   "metadata": {
    "collapsed": true
   },
   "outputs": [],
   "source": [
    "all_user_predicted_ratings = np.dot(np.dot(U, sigma), Vt) + user_ratings_mean.reshape(-1, 1)"
   ]
  },
  {
   "cell_type": "code",
   "execution_count": null,
   "metadata": {
    "collapsed": true
   },
   "outputs": [],
   "source": [
    "preds_df = pd.DataFrame(all_user_predicted_ratings, columns = R_df.columns)"
   ]
  },
  {
   "cell_type": "code",
   "execution_count": null,
   "metadata": {
    "collapsed": true
   },
   "outputs": [],
   "source": [
    "def recommend_movies(predictions_df, userID,original_ratings_df, num_recommendations=5):\n",
    "    \n",
    "    # Get and sort the user's predictions\n",
    "    user_row_number = userID - 1 # UserID starts at 1, not 0\n",
    "    sorted_user_predictions = predictions_df.iloc[user_row_number].sort_values(ascending=False)\n",
    "    \n",
    "    # Get the user's data and merge in the movie information.\n",
    "    user_data = original_ratings_df[original_ratings_df.UserID == (userID)]\n",
    "    user_full = (user_data.merge(movies_df, how = 'left', left_on = 'MovieID', right_on = 'MovieID').\n",
    "                     sort_values(['Rating'], ascending=False)\n",
    "                 )\n",
    "\n",
    "    print 'User {0} has already rated {1} movies.'.format(userID, user_full.shape[0])\n",
    "    print 'Recommending the highest {0} predicted ratings movies not already rated.'.format(num_recommendations)\n",
    "    \n",
    "    # Recommend the highest predicted rating movies that the user hasn't seen yet.\n",
    "    recommendations = (movies_df[~movies_df['MovieID'].isin(user_full['MovieID'])].\n",
    "         merge(pd.DataFrame(sorted_user_predictions).reset_index(), how = 'left',\n",
    "               left_on = 'MovieID',\n",
    "               right_on = 'MovieID').\n",
    "         rename(columns = {user_row_number: 'Predictions'}).\n",
    "         sort_values('Predictions', ascending = False).\n",
    "                       iloc[:num_recommendations, :-1]\n",
    "                      )\n",
    "\n",
    "    return user_full, recommendations\n",
    "\n",
    "already_rated, predictions_new = recommend_movies(preds_df, U837,reco_x_new, 10)"
   ]
  }
 ],
 "metadata": {
  "kernelspec": {
   "display_name": "Python 2",
   "language": "python",
   "name": "python2"
  },
  "language_info": {
   "codemirror_mode": {
    "name": "ipython",
    "version": 2
   },
   "file_extension": ".py",
   "mimetype": "text/x-python",
   "name": "python",
   "nbconvert_exporter": "python",
   "pygments_lexer": "ipython2",
   "version": "2.7.12"
  }
 },
 "nbformat": 4,
 "nbformat_minor": 2
}
